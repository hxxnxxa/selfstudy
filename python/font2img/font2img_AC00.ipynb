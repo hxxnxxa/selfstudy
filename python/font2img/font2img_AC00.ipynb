{
 "cells": [
  {
   "cell_type": "markdown",
   "id": "5a36d390",
   "metadata": {},
   "source": [
    "활, 짝 폰트 이미지 생성 코드 입니다."
   ]
  },
  {
   "cell_type": "markdown",
   "id": "ae266291",
   "metadata": {},
   "source": [
    "## 1. 라이브러리 임포트"
   ]
  },
  {
   "cell_type": "code",
   "execution_count": 2,
   "id": "20c5ccb1",
   "metadata": {},
   "outputs": [],
   "source": [
    "import sys\n",
    "import os\n",
    "import numpy as np\n",
    "import matplotlib.pyplot as plt\n",
    "import IPython.display as display\n",
    "from PIL import Image, ImageFont, ImageDraw\n",
    "from numpy.core.arrayprint import TimedeltaFormat\n",
    "from tqdm import tqdm\n",
    "from matplotlib import font_manager"
   ]
  },
  {
   "cell_type": "markdown",
   "id": "e4f7fee0",
   "metadata": {},
   "source": [
    "- <b>sys :</b> 파이썬 인터프리터를 제어할 수 있는 라이브러리\n",
    "- <b>os :</b> 운영체제에서 제공되는 여러 기능을 파이썬에서 수행할 수 있게 해주는 라이브러리\n",
    "- <b>numpy :</b> 배열 연산 라이브러리\n",
    "- <b>matplotlib.pyplot :</b> 그래프 그리는 라이브러리\n",
    "- <b>IPython.display :</b> Jupyter notebook에서 이미지를 표시해주는 라이브러리\n",
    "- <b>Image :</b> Image를 열기, 닫기, 저장할 수 있게 해주는 라이브러리\n",
    "- <b>ImageFont :</b> Image 위에 글씨크기와 폰트 스타일을 변경해주는 라이브러리\n",
    "- <b>ImageDraw :</b> Image 위에 사각형, 원 등을 그릴 수 있게 해주는 라이브러리\n",
    "- <b>TimedeltaFormat :</b> 확인 필요 \n",
    "- <b>tqdm :</b> 진행 상황을 progress bar 형식으로 보여주는 라이브러리\n",
    "- <b>font_manager :</b> matplotlib 를 이용해 그래프 그릴 때 한글 깨짐 현상을 방지해주는 라이브러리"
   ]
  },
  {
   "cell_type": "markdown",
   "id": "241e36c7",
   "metadata": {},
   "source": [
    "## 2. 이미지 크기 지정"
   ]
  },
  {
   "cell_type": "code",
   "execution_count": 3,
   "id": "a05b7c34",
   "metadata": {},
   "outputs": [],
   "source": [
    "w, h = (256,256)"
   ]
  },
  {
   "cell_type": "markdown",
   "id": "3edbbc93",
   "metadata": {},
   "source": [
    "## 3. 폰트 목록 불러오기"
   ]
  },
  {
   "cell_type": "code",
   "execution_count": 7,
   "id": "97055e27",
   "metadata": {},
   "outputs": [],
   "source": [
    "font_path = \"D:/workspace/SF-GNN/fonts/2_Myeongjo\"\n",
    "fonts = os.listdir(\"D:/workspace/SF-GNN/fonts/2_Myeongjo\")"
   ]
  },
  {
   "cell_type": "markdown",
   "id": "0fd77ebb",
   "metadata": {},
   "source": [
    "- font_path : 폰트 스타일이 있는 디렉토리를 입력\n",
    "- fonts : 지정 경로 내 폰트 목록을 리스트화하여 저장"
   ]
  },
  {
   "cell_type": "markdown",
   "id": "abd36caa",
   "metadata": {},
   "source": [
    "## 4. 지정 경로에 한글 폰트 이미지 생성 및 저장"
   ]
  },
  {
   "cell_type": "code",
   "execution_count": 1,
   "id": "be313a04",
   "metadata": {},
   "outputs": [
    {
     "ename": "NameError",
     "evalue": "name 'tqdm' is not defined",
     "output_type": "error",
     "traceback": [
      "\u001b[1;31m---------------------------------------------------------------------------\u001b[0m",
      "\u001b[1;31mNameError\u001b[0m                                 Traceback (most recent call last)",
      "\u001b[1;32m~\\AppData\\Local\\Temp/ipykernel_12956/1097457449.py\u001b[0m in \u001b[0;36m<module>\u001b[1;34m\u001b[0m\n\u001b[1;32m----> 1\u001b[1;33m \u001b[1;32mfor\u001b[0m \u001b[0muni\u001b[0m \u001b[1;32min\u001b[0m \u001b[0mtqdm\u001b[0m\u001b[1;33m(\u001b[0m\u001b[0msylla\u001b[0m\u001b[1;33m)\u001b[0m\u001b[1;33m:\u001b[0m\u001b[1;33m\u001b[0m\u001b[1;33m\u001b[0m\u001b[0m\n\u001b[0m\u001b[0;32m      2\u001b[0m \u001b[1;33m\u001b[0m\u001b[0m\n\u001b[0;32m      3\u001b[0m     \u001b[0municodeChars\u001b[0m \u001b[1;33m=\u001b[0m \u001b[0mchr\u001b[0m\u001b[1;33m(\u001b[0m\u001b[0mint\u001b[0m\u001b[1;33m(\u001b[0m\u001b[0muni\u001b[0m\u001b[1;33m,\u001b[0m \u001b[1;36m16\u001b[0m\u001b[1;33m)\u001b[0m\u001b[1;33m)\u001b[0m\u001b[1;33m\u001b[0m\u001b[1;33m\u001b[0m\u001b[0m\n\u001b[0;32m      4\u001b[0m     \u001b[0mpath\u001b[0m \u001b[1;33m=\u001b[0m \u001b[1;34m\"D:/workspace/SF-GNN/unusualFontInitial/\"\u001b[0m \u001b[1;33m+\u001b[0m  \u001b[0municodeChars\u001b[0m\u001b[1;33m\u001b[0m\u001b[1;33m\u001b[0m\u001b[0m\n\u001b[0;32m      5\u001b[0m     \u001b[0mos\u001b[0m\u001b[1;33m.\u001b[0m\u001b[0mmakedirs\u001b[0m\u001b[1;33m(\u001b[0m\u001b[0mpath\u001b[0m\u001b[1;33m,\u001b[0m \u001b[0mexist_ok\u001b[0m \u001b[1;33m=\u001b[0m \u001b[1;32mTrue\u001b[0m\u001b[1;33m)\u001b[0m\u001b[1;33m\u001b[0m\u001b[1;33m\u001b[0m\u001b[0m\n",
      "\u001b[1;31mNameError\u001b[0m: name 'tqdm' is not defined"
     ]
    }
   ],
   "source": [
    "for ttf in fonts:\n",
    "    font = ImageFont.truetype(font=font_path+\"/\"+ttf, size=256)\n",
    "    x, y = font.getsize(unicodeChars)\n",
    "    \n",
    "    theImage = Image.new('RGB', (256,256),color='white')\n",
    "    theDrawPad = ImageDraw.Draw(theImage)\n",
    "    theDrawPad.text(((w-x)/2, (h-y)/2), \"짝\", font=font, fill='black')\n",
    "\n",
    "    msg = path + \"/\" + ttf[:-4] + \"짝\"\n",
    "    theImage.save('{}.png'.format(msg))"
   ]
  },
  {
   "cell_type": "code",
   "execution_count": null,
   "id": "570e6cb9",
   "metadata": {},
   "outputs": [],
   "source": []
  }
 ],
 "metadata": {
  "kernelspec": {
   "display_name": "Python 3 (ipykernel)",
   "language": "python",
   "name": "python3"
  },
  "language_info": {
   "codemirror_mode": {
    "name": "ipython",
    "version": 3
   },
   "file_extension": ".py",
   "mimetype": "text/x-python",
   "name": "python",
   "nbconvert_exporter": "python",
   "pygments_lexer": "ipython3",
   "version": "3.7.11"
  }
 },
 "nbformat": 4,
 "nbformat_minor": 5
}
