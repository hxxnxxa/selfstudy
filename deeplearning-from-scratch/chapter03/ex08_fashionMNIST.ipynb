{
 "cells": [
  {
   "cell_type": "markdown",
   "id": "af628700",
   "metadata": {},
   "source": [
    "<h1>0. Import Libraries</h1>"
   ]
  },
  {
   "cell_type": "code",
   "execution_count": 1,
   "id": "e58c4dd0",
   "metadata": {},
   "outputs": [],
   "source": [
    "import tensorflow as tf\n",
    "import numpy as np\n",
    "import matplotlib.pyplot as plt"
   ]
  },
  {
   "cell_type": "code",
   "execution_count": 2,
   "id": "e7400246",
   "metadata": {},
   "outputs": [
    {
     "name": "stdout",
     "output_type": "stream",
     "text": [
      "2.6.1\n"
     ]
    }
   ],
   "source": [
    "print(tf.__version__)"
   ]
  },
  {
   "cell_type": "markdown",
   "id": "e52a9d71",
   "metadata": {},
   "source": [
    "<h1>1. Import Fashion MNIST</h1>"
   ]
  },
  {
   "cell_type": "markdown",
   "id": "16740e04",
   "metadata": {},
   "source": [
    "<h3>Fashion MNIST</h3>\n",
    "\n",
    "- 10개의 범주(카테고리)와 70,000개의 흑백이미지로 구성된 데이터셋\n",
    "- 이미지는 해상도(28x28 픽셀)가 낮고 개별 옷 품목을 나타낸다.\n",
    "- 해당 데이터셋은 비교적 작기 때문에 알고리즘의 작동 여부를 확인하기 위해 사용된다. 코드를 테스트하고 디버깅하는 용도로 좋다.\n",
    "- 60,000개의 이미지를 사용하여 네트워크를 훈련하고 10,000개의 이미지를 사용하여 네트워크에서 이미지 분류를 학습한 정도를 평가한다.\n",
    "- TensorFlow에서 직접 Fashion MNIST에 엑세스할 수 있다."
   ]
  },
  {
   "cell_type": "code",
   "execution_count": 3,
   "id": "dd3342a4",
   "metadata": {},
   "outputs": [],
   "source": [
    "fashion_mnist = tf.keras.datasets.fashion_mnist"
   ]
  },
  {
   "cell_type": "code",
   "execution_count": 4,
   "id": "4d9bc1a0",
   "metadata": {},
   "outputs": [],
   "source": [
    "(train_images, train_labels), (test_images, test_labels) = fashion_mnist.load_data()"
   ]
  },
  {
   "cell_type": "markdown",
   "id": "5056e4f5",
   "metadata": {},
   "source": [
    "- load_data() 함수를 호출하면 네 개의 넘파이(NumPy) 배열이 반환된다.\n",
    "- train_images와 train_labels 배열은 모델 학습에 사용되는 훈련 세트\n",
    "- test_images와 test_labels 배열은 모델 테스트에 사용되는 테스트 세트\n",
    "- 각 이미지는 28x28 크기의 넘파이 배열이고 픽셀 값은 0~255 사이이다.\n",
    "- 레이블은 0에서 9까지의 정수 배열이다. 이 값은 이미지에 있는 옷의 클래스(class)를 나타낸다."
   ]
  },
  {
   "cell_type": "code",
   "execution_count": 5,
   "id": "ee9ebb5b",
   "metadata": {},
   "outputs": [],
   "source": [
    "class_names = ['T-shirt/top', 'Trouser', 'Pullover', 'Dress', 'Coat', 'Sandal', 'Shirt', 'Sneaker', 'Bag', 'Ankle boot']"
   ]
  },
  {
   "cell_type": "markdown",
   "id": "6656fbe4",
   "metadata": {},
   "source": [
    "- 각 이미지는 하나의 레이블에 매핑되어있다. \n",
    "- 데이터셋에 클래스 이름이 들어있지 않기 때문에 나중에 이미지를 출력할 때 사용하기 위해 별도의 변수를 만들어 저장한다.\n",
    "- class_names 라는 리스트 타입의 변수를 선언 해 범주명을 저장 해 준다."
   ]
  },
  {
   "cell_type": "markdown",
   "id": "4c2930ae",
   "metadata": {},
   "source": [
    "<h1>2. Data Exploration</h1>"
   ]
  },
  {
   "cell_type": "markdown",
   "id": "057e17e0",
   "metadata": {},
   "source": [
    "- 모델을 훈련하기 전 데이터셋 구조를 살펴보자."
   ]
  },
  {
   "cell_type": "code",
   "execution_count": 8,
   "id": "43901f9d",
   "metadata": {},
   "outputs": [
    {
     "data": {
      "text/plain": [
       "(60000, 28, 28)"
      ]
     },
     "execution_count": 8,
     "metadata": {},
     "output_type": "execute_result"
    }
   ],
   "source": [
    "train_images.shape"
   ]
  },
  {
   "cell_type": "code",
   "execution_count": 13,
   "id": "659b46bf",
   "metadata": {},
   "outputs": [
    {
     "data": {
      "text/plain": [
       "numpy.ndarray"
      ]
     },
     "execution_count": 13,
     "metadata": {},
     "output_type": "execute_result"
    }
   ],
   "source": [
    "type(train_images)"
   ]
  },
  {
   "cell_type": "code",
   "execution_count": 9,
   "id": "c819738f",
   "metadata": {},
   "outputs": [
    {
     "data": {
      "text/plain": [
       "60000"
      ]
     },
     "execution_count": 9,
     "metadata": {},
     "output_type": "execute_result"
    }
   ],
   "source": [
    "len(train_labels)"
   ]
  },
  {
   "cell_type": "code",
   "execution_count": 10,
   "id": "cf225a4e",
   "metadata": {},
   "outputs": [
    {
     "data": {
      "text/plain": [
       "array([9, 0, 0, ..., 3, 0, 5], dtype=uint8)"
      ]
     },
     "execution_count": 10,
     "metadata": {},
     "output_type": "execute_result"
    }
   ],
   "source": [
    "train_labels"
   ]
  },
  {
   "cell_type": "code",
   "execution_count": 11,
   "id": "518d83d4",
   "metadata": {},
   "outputs": [
    {
     "data": {
      "text/plain": [
       "(10000, 28, 28)"
      ]
     },
     "execution_count": 11,
     "metadata": {},
     "output_type": "execute_result"
    }
   ],
   "source": [
    "test_images.shape"
   ]
  },
  {
   "cell_type": "code",
   "execution_count": 12,
   "id": "1f32cfb5",
   "metadata": {},
   "outputs": [
    {
     "data": {
      "text/plain": [
       "10000"
      ]
     },
     "execution_count": 12,
     "metadata": {},
     "output_type": "execute_result"
    }
   ],
   "source": [
    "len(test_labels)"
   ]
  },
  {
   "cell_type": "markdown",
   "id": "3ab59362",
   "metadata": {},
   "source": [
    "<h1>3. Data Preprocessing"
   ]
  },
  {
   "cell_type": "markdown",
   "id": "bb6537c1",
   "metadata": {},
   "source": [
    "- 네트워크를 훈련하기 전에 데이터를 전처리해야 한다.\n",
    "- 훈련 세트에 있는 첫 번째 이미지를 보면 픽셀 값의 범위가 0~255 사이라는 것을 알 수 있다."
   ]
  },
  {
   "cell_type": "code",
   "execution_count": 21,
   "id": "89db30f9",
   "metadata": {},
   "outputs": [
    {
     "data": {
      "image/png": "[encoded data removed]",
      "text/plain": [
       "<Figure size 432x288 with 2 Axes>"
      ]
     },
     "metadata": {
      "needs_background": "light"
     },
     "output_type": "display_data"
    }
   ],
   "source": [
    "plt.figure()\n",
    "plt.imshow(train_images[3])\n",
    "plt.colorbar()\n",
    "plt.grid(False)\n",
    "plt.show()"
   ]
  },
  {
   "cell_type": "markdown",
   "id": "1fda2940",
   "metadata": {},
   "source": [
    "- 신경망 모델에 주입하기 전에 이 값의 범위를 0~1 사이로 조정하자. 이렇게 하려면 255로 나누어야한다.\n",
    "- 훈련 세트와 테스트 세트를 동일한 방식으로 전처리하는 것이 중요하다."
   ]
  },
  {
   "cell_type": "code",
   "execution_count": 22,
   "id": "80019834",
   "metadata": {},
   "outputs": [],
   "source": [
    "train_images = train_images / 255.0\n",
    "test_images = test_images / 255.0"
   ]
  },
  {
   "cell_type": "markdown",
   "id": "d8120774",
   "metadata": {},
   "source": [
    "- 훈련세트에서 처음 25개 이미지와 그 아래 클래스 이름을 출력 해 보자.\n",
    "- 데이터 포맷이 올바른지 확인하고 네트워크 구성과 |훈련할 준비를 마친다."
   ]
  },
  {
   "cell_type": "code",
   "execution_count": 26,
   "id": "03d6e239",
   "metadata": {},
   "outputs": [
    {
     "data": {
      "image/png": "[encoded data removed]",
      "text/plain": [
       "<Figure size 360x360 with 25 Axes>"
      ]
     },
     "metadata": {},
     "output_type": "display_data"
    }
   ],
   "source": [
    "plt.figure(figsize=(5,5))\n",
    "for i in range(25):\n",
    "    plt.subplot(5, 5, i+1)\n",
    "    plt.xticks([])\n",
    "    plt.yticks([])\n",
    "    plt.grid(False)\n",
    "    plt.imshow(train_images[i], cmap=plt.cm.binary)\n",
    "    plt.xlabel(class_names[train_labels[i]])\n",
    "\n",
    "plt.show()"
   ]
  },
  {
   "cell_type": "markdown",
   "id": "dbaf4816",
   "metadata": {},
   "source": [
    "<h1>4. Model Configuring"
   ]
  },
  {
   "cell_type": "markdown",
   "id": "3a987804",
   "metadata": {},
   "source": [
    "- 신경망 모델을 만들려면 모델의 층을 구성한 다음 모델을 컴파일한다.\n",
    "- 신경망의 기본 빌딩 블록은 레이어이다. 레이어는 레이어에 공급된 데이터로부터 표현을 추출한다. \n",
    "- 대부분 딥러닝은 간단한 층을 연결하여 구성된다. tf.keras.layers.Dense 와 같은 층들의 가중치(parameter)는 훈련하는 동안 학습된다."
   ]
  },
  {
   "cell_type": "code",
   "execution_count": 28,
   "id": "d6251ed2",
   "metadata": {},
   "outputs": [],
   "source": [
    "model = tf.keras.Sequential([\n",
    "    tf.keras.layers.Flatten(input_shape=(28,28)),\n",
    "    tf.keras.layers.Dense(128, activation='relu'),\n",
    "    tf.keras.layers.Dense(10)\n",
    "])"
   ]
  },
  {
   "cell_type": "markdown",
   "id": "5c1dddf5",
   "metadata": {},
   "source": [
    "- 이 네트워크의 첫 번째 층인 tf.keras.layers.Flatten 은 2차원 배열(28x28픽셀)의 이미지 포맷을 28x28=784 픽셀의 1차원 배열로 변환한다.\n",
    "- 이 층은 이미지에 있는 픽셀의 행을 펼쳐서 일렬로 늘린다.\n",
    "- 이 층에는 학습되는 가중치가 없고 데이터를 변환하기만 한다.\n",
    "\n",
    "<br>\n",
    "\n",
    "- 픽셀을 펼친 후에는 두 개의 tf.keras.layers.Dense 층이 연속되어 연결된다.\n",
    "- 첫 번째 Dense 층은 128개의 노드(또는 뉴런)을 가진다.\n",
    "- 두 번째 (마지막) 층은 10개의 노드의 소프트맥스(softmax) 층이다.\n",
    "- 이 층은 10개의 확률을 반환하고 반환된 값의 전체 합은 1이다.\n",
    "- 각 노드는 현재 이미지가 10개 클래스 중 하나에 속할 확률을 출력한다."
   ]
  },
  {
   "cell_type": "markdown",
   "id": "b9bf0bab",
   "metadata": {},
   "source": [
    "<h1>5. Model Compile</h1>"
   ]
  },
  {
   "cell_type": "markdown",
   "id": "4aab4d42",
   "metadata": {},
   "source": [
    "- 모델을 훈련할 준비가 되기 전에 몇 가지 설정이 더 필요하다. 다음은 모델의 컴파일 단계에서 추가된다.\n",
    "\n",
    "1. 손실함수 : 훈련 중 모델이 얼마나 정확한지 측정한다. 모델을 올바른 방향으로 \"조정\"하려면 이 함수를 최소화 해야 한다.\n",
    "2. 옵티마이저 : 모델이 인식하는 데이터와 해당 손실 함수를 기반으로 모델이 업데이트 되는 방식이다.\n",
    "3. 메트릭 : 훈련 및 테스트 단계를 모니터링하는 데 사용된다. 다음 예에서 올바르게 분류된 이미지의 비율인 정확도를 사용한다."
   ]
  },
  {
   "cell_type": "code",
   "execution_count": 31,
   "id": "a589ec7f",
   "metadata": {},
   "outputs": [],
   "source": [
    "model.compile(optimizer='adam',\n",
    "             loss=tf.keras.losses.SparseCategoricalCrossentropy(from_logits=True),\n",
    "             metrics=['accuracy'])"
   ]
  },
  {
   "cell_type": "markdown",
   "id": "efc2e548",
   "metadata": {},
   "source": [
    "<h1>6. Train the Model</h1>"
   ]
  },
  {
   "cell_type": "markdown",
   "id": "5a430c1f",
   "metadata": {},
   "source": [
    "- 신경망 모델을 훈련하려면 다음 단계가 필요하다.\n",
    "\n",
    "1. 훈련 데이터를 모델에 주입한다. 이 예에서는 train_images와 train_labels 배열이다.\n",
    "2. 모델이 이미지와 레이블을 매핑하는 방법을 배운다.\n",
    "3. 테스트 세트에 대한 모델의 예측을 만든다. 이 예에서는 test_images 배열이다. 이 에측이 test_labels 배열의 레이블과 맞는지 확인한다.\n",
    "4. 예측이 test_labels 배열의 레이블과 일치하는지 확인한다."
   ]
  },
  {
   "cell_type": "markdown",
   "id": "448f882b",
   "metadata": {},
   "source": [
    "- 훈련을 시작하려면 model.fit 메서드를 호출한다. 모델을 훈련 데이터에 \"맞추기(fit)\" 때문에 이렇게 불린다."
   ]
  },
  {
   "cell_type": "code",
   "execution_count": 32,
   "id": "66afd4f7",
   "metadata": {},
   "outputs": [
    {
     "name": "stdout",
     "output_type": "stream",
     "text": [
      "Epoch 1/10\n",
      "1875/1875 [==============================] - 9s 3ms/step - loss: 0.4969 - accuracy: 0.8263\n",
      "Epoch 2/10\n",
      "1875/1875 [==============================] - 6s 3ms/step - loss: 0.3707 - accuracy: 0.8668: 0s - los\n",
      "Epoch 3/10\n",
      "1875/1875 [==============================] - 7s 4ms/step - loss: 0.3361 - accuracy: 0.8764\n",
      "Epoch 4/10\n",
      "1875/1875 [==============================] - 6s 3ms/step - loss: 0.3117 - accuracy: 0.8855\n",
      "Epoch 5/10\n",
      "1875/1875 [==============================] - 6s 3ms/step - loss: 0.2937 - accuracy: 0.8919: 0s - loss: 0.292\n",
      "Epoch 6/10\n",
      "1875/1875 [==============================] - 7s 4ms/step - loss: 0.2803 - accuracy: 0.8954: 0s - l\n",
      "Epoch 7/10\n",
      "1875/1875 [==============================] - 7s 4ms/step - loss: 0.2684 - accuracy: 0.9004\n",
      "Epoch 8/10\n",
      "1875/1875 [==============================] - 7s 4ms/step - loss: 0.2566 - accuracy: 0.9051\n",
      "Epoch 9/10\n",
      "1875/1875 [==============================] - 7s 4ms/step - loss: 0.2457 - accuracy: 0.9077\n",
      "Epoch 10/10\n",
      "1875/1875 [==============================] - 7s 4ms/step - loss: 0.2369 - accuracy: 0.9113\n"
     ]
    },
    {
     "data": {
      "text/plain": [
       "<keras.callbacks.History at 0x252d8f58460>"
      ]
     },
     "execution_count": 32,
     "metadata": {},
     "output_type": "execute_result"
    }
   ],
   "source": [
    "model.fit(train_images, train_labels, epochs=10)"
   ]
  },
  {
   "cell_type": "markdown",
   "id": "634590ca",
   "metadata": {},
   "source": [
    "- 모델이 훈련되면서 손실과 정확도 지표가 출력된다. \n",
    "- 이 모델은 훈련 세트에서 약 0.88(88%) 정도의 정확도를 달성한다."
   ]
  },
  {
   "cell_type": "markdown",
   "id": "8c661582",
   "metadata": {},
   "source": [
    "<h1>7. Evaluate Accuracy</h1>"
   ]
  },
  {
   "cell_type": "markdown",
   "id": "c8c30fa1",
   "metadata": {},
   "source": [
    "- 모델이 테스트 데이터세트에서 작동하는 방식을 비교한다."
   ]
  },
  {
   "cell_type": "code",
   "execution_count": 34,
   "id": "e7856194",
   "metadata": {},
   "outputs": [
    {
     "name": "stdout",
     "output_type": "stream",
     "text": [
      "313/313 - 1s - loss: 0.3406 - accuracy: 0.8833\n",
      "\n",
      "Test accuracy :  0.8833000063896179\n"
     ]
    }
   ],
   "source": [
    "test_loss, test_acc = model.evaluate(test_images, test_labels, verbose=2)\n",
    "print(\"\\nTest accuracy : \", test_acc)"
   ]
  },
  {
   "cell_type": "markdown",
   "id": "bbae9c76",
   "metadata": {},
   "source": [
    "- 테스트 세트의 정확도가 훈련 세트의 정확도보다 조금 낮다.\n",
    "- 훈련 세트의 정확도와 테스트 세트의 정확도 사이의 차이는 과대적합(overfitting) 떄문이다.\n",
    "- 과대적합은 머신러닝 모델이 훈련 데이터보다 새로운 데이터에서 성능이 낮아지는 현상을 말한다."
   ]
  },
  {
   "cell_type": "markdown",
   "id": "ec3fc3c5",
   "metadata": {},
   "source": [
    "<h1>8. Inference</h1>"
   ]
  },
  {
   "cell_type": "markdown",
   "id": "039f26dd",
   "metadata": {},
   "source": [
    "- 훈련된 모델을 사용하여 일부 이미지에 대한 예측을 수행할 수 있다.\n",
    "- 모델의 선형 출력, logits.softmax layer를 연결하여 logit을 해석하기 쉬운 확률로 변환한다."
   ]
  },
  {
   "cell_type": "code",
   "execution_count": 37,
   "id": "c4107b27",
   "metadata": {},
   "outputs": [],
   "source": [
    "probability_model = tf.keras.Sequential([model, tf.keras.layers.Softmax()])"
   ]
  },
  {
   "cell_type": "code",
   "execution_count": 38,
   "id": "fa957bee",
   "metadata": {},
   "outputs": [],
   "source": [
    "predictions = probability_model.predict(test_images)"
   ]
  },
  {
   "cell_type": "markdown",
   "id": "c9f21fa5",
   "metadata": {},
   "source": [
    "- 여기서는 테스트 세트에 있는 각 이미지의 레이블을 예측했다. 첫 번째 예측을 확인 해 보자."
   ]
  },
  {
   "cell_type": "code",
   "execution_count": 39,
   "id": "b8dd6645",
   "metadata": {},
   "outputs": [
    {
     "data": {
      "text/plain": [
       "array([1.7927781e-07, 7.9835559e-08, 6.9216986e-11, 1.0113613e-10,\n",
       "       2.2498678e-09, 1.6598193e-03, 2.2187809e-08, 1.1290974e-03,\n",
       "       1.6171358e-08, 9.9721080e-01], dtype=float32)"
      ]
     },
     "execution_count": 39,
     "metadata": {},
     "output_type": "execute_result"
    }
   ],
   "source": [
    "predictions[0]"
   ]
  },
  {
   "cell_type": "markdown",
   "id": "7f960e4f",
   "metadata": {},
   "source": [
    "- 이 예측은 10개의 숫자 배열로 나타난다.\n",
    "- 이 값은 10개의 옷 품목에 상응하는 모델의 신뢰도(confidence)를 나타낸다.\n",
    "- 가장 높은 신뢰도를 가진 레이블을 찾아보자."
   ]
  },
  {
   "cell_type": "code",
   "execution_count": 41,
   "id": "7cd8a7f7",
   "metadata": {},
   "outputs": [
    {
     "data": {
      "text/plain": [
       "9"
      ]
     },
     "execution_count": 41,
     "metadata": {},
     "output_type": "execute_result"
    }
   ],
   "source": [
    "np.argmax(predictions[0])"
   ]
  },
  {
   "cell_type": "markdown",
   "id": "fc2c181b",
   "metadata": {},
   "source": [
    "- 모델은 이 이미지가 앵클 부츠(class_name[9])라고 가장 확신하고 있다. \n",
    "- 이 값이 맞는지 테스트 레이블을 확인 해 보자."
   ]
  },
  {
   "cell_type": "code",
   "execution_count": 42,
   "id": "7ba183cf",
   "metadata": {},
   "outputs": [
    {
     "data": {
      "text/plain": [
       "9"
      ]
     },
     "execution_count": 42,
     "metadata": {},
     "output_type": "execute_result"
    }
   ],
   "source": [
    "test_labels[0]"
   ]
  },
  {
   "cell_type": "markdown",
   "id": "981ed052",
   "metadata": {},
   "source": [
    "- 10개 클래스에 대한 예측을 모두 그래프로 표현 해 보자."
   ]
  },
  {
   "cell_type": "code",
   "execution_count": 43,
   "id": "a5db924c",
   "metadata": {},
   "outputs": [],
   "source": [
    "def plot_image(i, predictions_array, true_label, img):\n",
    "    true_label, img = true_label[i], img[i]\n",
    "    plt.grid(False)\n",
    "    plt.xticks([])\n",
    "    plt.yticks([])\n",
    "    \n",
    "    plt.imshow(img, cmap=plt.cm.binary)\n",
    "    \n",
    "    predicted_label = np.argmax(predictions_array)\n",
    "    \n",
    "    if predicted_label == true_label:\n",
    "        color = 'blue'\n",
    "    else:\n",
    "        color = 'red'\n",
    "        \n",
    "    plt.xlabel(\"{} {:2.0f}% ({})\".format(class_names[predicted_label],\n",
    "                                        100*np.max(predictions_array),\n",
    "                                        class_names[true_label]),\n",
    "                                        color=color)"
   ]
  },
  {
   "cell_type": "code",
   "execution_count": 44,
   "id": "dc09b97d",
   "metadata": {},
   "outputs": [],
   "source": [
    "def plot_value_array(i, predictions_array, true_label):\n",
    "    true_label = true_label[i]\n",
    "    plt.grid(False)\n",
    "    plt.xticks(range(10))\n",
    "    plt.yticks([])\n",
    "    thisplot = plt.bar(range(10), predictions_array, color=\"#777777\")\n",
    "    plt.ylim([0, 1])\n",
    "    predicted_label = np.argmax(predictions_array)\n",
    "    \n",
    "    thisplot[predicted_label].set_color('red')\n",
    "    thisplot[true_label].set_color('blue')"
   ]
  },
  {
   "cell_type": "markdown",
   "id": "dfddd7a7",
   "metadata": {},
   "source": [
    "<h1>9. Check Inference</h1>"
   ]
  },
  {
   "cell_type": "markdown",
   "id": "52f1b3cd",
   "metadata": {},
   "source": [
    "- 훈련된 모델을 사용하여 일부 이미지에 대한 예측을 수행할 수 있다.\n",
    "- 0번째 원소의 이미지, 예측, 신뢰도 점수 배열을 확인 해 보자."
   ]
  },
  {
   "cell_type": "code",
   "execution_count": 46,
   "id": "72b310a6",
   "metadata": {},
   "outputs": [
    {
     "data": {
      "image/png": "[encoded data removed]",
      "text/plain": [
       "<Figure size 432x216 with 2 Axes>"
      ]
     },
     "metadata": {
      "needs_background": "light"
     },
     "output_type": "display_data"
    }
   ],
   "source": [
    "i = 1\n",
    "plt.figure(figsize=(6,3))\n",
    "plt.subplot(1,2,1)\n",
    "plot_image(i, predictions[i], test_labels, test_images)\n",
    "plt.subplot(1,2,2)\n",
    "plot_value_array(i, predictions[i], test_labels)\n",
    "plt.show()"
   ]
  },
  {
   "cell_type": "code",
   "execution_count": 47,
   "id": "de09c8a1",
   "metadata": {},
   "outputs": [
    {
     "data": {
      "image/png": "[encoded data removed]",
      "text/plain": [
       "<Figure size 432x216 with 2 Axes>"
      ]
     },
     "metadata": {
      "needs_background": "light"
     },
     "output_type": "display_data"
    }
   ],
   "source": [
    "i = 12\n",
    "plt.figure(figsize=(6,3))\n",
    "plt.subplot(1,2,1)\n",
    "plot_image(i, predictions[i], test_labels, test_images)\n",
    "plt.subplot(1,2,2)\n",
    "plot_value_array(i, predictions[i], test_labels)\n",
    "plt.show()"
   ]
  },
  {
   "cell_type": "markdown",
   "id": "3dc88835",
   "metadata": {},
   "source": [
    "- 몇 개의 이미지의 예측을 출력 해 보자.\n",
    "- 올바르게 예측된 레이블은 파란색이고 잘못 예측된 레이블은 빨간색이다.\n",
    "- 숫자는 예측 레이블의 신뢰도 퍼센트(100점 만점)이다.\n",
    "- 신뢰도 점수가 높을 때도 잘못 예측할 수 있다."
   ]
  },
  {
   "cell_type": "code",
   "execution_count": 48,
   "id": "e151c468",
   "metadata": {},
   "outputs": [
    {
     "data": {
      "image/png": "[encoded data removed]",
      "text/plain": [
       "<Figure size 864x720 with 30 Axes>"
      ]
     },
     "metadata": {
      "needs_background": "light"
     },
     "output_type": "display_data"
    }
   ],
   "source": [
    "# Plot the first X test images, their predicted labels, and the true labels.\n",
    "# Color correct predictions in blue and incorrect predictions in red\n",
    "\n",
    "num_rows = 5\n",
    "num_cols = 3\n",
    "num_images = num_rows * num_cols\n",
    "\n",
    "plt.figure(figsize=(2*2*num_cols, 2*num_rows))\n",
    "\n",
    "for i in range(num_images):\n",
    "    plt.subplot(num_rows, 2*num_cols, 2*i+1)\n",
    "    plot_image(i, predictions[i], test_labels, test_images)\n",
    "    plt.subplot(num_rows, 2*num_cols, 2*i+2)\n",
    "    plot_value_array(i, predictions[i], test_labels)\n",
    "\n",
    "plt.tight_layout()\n",
    "plt.show()"
   ]
  },
  {
   "cell_type": "markdown",
   "id": "c50a84b3",
   "metadata": {},
   "source": [
    "<h1>10. Use the trained model"
   ]
  },
  {
   "cell_type": "markdown",
   "id": "6fc9d3c8",
   "metadata": {},
   "source": [
    "- 마지막으로 훈련된 모델을 사용하여 한 이미지에 대한 예측을 만든다."
   ]
  },
  {
   "cell_type": "code",
   "execution_count": 50,
   "id": "072f07e8",
   "metadata": {},
   "outputs": [
    {
     "name": "stdout",
     "output_type": "stream",
     "text": [
      "(28, 28)\n"
     ]
    }
   ],
   "source": [
    "# Grab an image from the test dataset.\n",
    "\n",
    "img = test_images[1]\n",
    "\n",
    "print(img.shape)"
   ]
  },
  {
   "cell_type": "markdown",
   "id": "5e96bd6c",
   "metadata": {},
   "source": [
    "- tf.keras 모델은 한 번에 샘플의 묶음 또는 배치(batch)로 예측을 만드는데 최적화되어 있다.\n",
    "- 하나의 이미지를 사용할 때에도 2차원 배열로 만들어야한다."
   ]
  },
  {
   "cell_type": "code",
   "execution_count": 52,
   "id": "6de300cc",
   "metadata": {},
   "outputs": [
    {
     "name": "stdout",
     "output_type": "stream",
     "text": [
      "(1, 1, 28, 28)\n"
     ]
    }
   ],
   "source": [
    "# Add the image to a batch where it`s the only member.\n",
    "img = (np.expand_dims(img,0))\n",
    "\n",
    "print(img.shape)"
   ]
  },
  {
   "cell_type": "markdown",
   "id": "323646a2",
   "metadata": {},
   "source": [
    "- 이제 이 이미지의 예측을 만든다. : "
   ]
  },
  {
   "cell_type": "code",
   "execution_count": 54,
   "id": "ed4ae06f",
   "metadata": {},
   "outputs": [
    {
     "name": "stdout",
     "output_type": "stream",
     "text": [
      "WARNING:tensorflow:Model was constructed with shape (None, 28, 28) for input KerasTensor(type_spec=TensorSpec(shape=(None, 28, 28), dtype=tf.float32, name='sequential_input'), name='sequential_input', description=\"created by layer 'sequential_input'\"), but it was called on an input with incompatible shape (None, 1, 28, 28).\n",
      "WARNING:tensorflow:Model was constructed with shape (None, 28, 28) for input KerasTensor(type_spec=TensorSpec(shape=(None, 28, 28), dtype=tf.float32, name='flatten_input'), name='flatten_input', description=\"created by layer 'flatten_input'\"), but it was called on an input with incompatible shape (None, 1, 28, 28).\n",
      "[[3.7742906e-05 1.2018536e-13 9.9940252e-01 4.6323542e-11 5.1431905e-04\n",
      "  6.4198014e-16 4.5444776e-05 3.8790744e-21 1.7075080e-12 3.3983301e-13]]\n"
     ]
    }
   ],
   "source": [
    "predictions_single = probability_model.predict(img)\n",
    "print(predictions_single)"
   ]
  },
  {
   "cell_type": "code",
   "execution_count": 55,
   "id": "f9ee9099",
   "metadata": {},
   "outputs": [
    {
     "data": {
      "image/png": "[encoded data removed]",
      "text/plain": [
       "<Figure size 432x288 with 1 Axes>"
      ]
     },
     "metadata": {
      "needs_background": "light"
     },
     "output_type": "display_data"
    }
   ],
   "source": [
    "plot_value_array(1, predictions_single[0], test_labels)\n",
    "_ = plt.xticks(range(10), class_names, rotation=45)\n",
    "plt.show()"
   ]
  },
  {
   "cell_type": "code",
   "execution_count": 56,
   "id": "ad8bbc9a",
   "metadata": {},
   "outputs": [
    {
     "data": {
      "text/plain": [
       "2"
      ]
     },
     "execution_count": 56,
     "metadata": {},
     "output_type": "execute_result"
    }
   ],
   "source": [
    "np.argmax(predictions_single[0])"
   ]
  },
  {
   "cell_type": "markdown",
   "id": "2bcfff62",
   "metadata": {},
   "source": [
    "- 모델이 레이블을 예측함을 알 수 있다."
   ]
  },
  {
   "cell_type": "code",
   "execution_count": null,
   "id": "0cd024ed",
   "metadata": {},
   "outputs": [],
   "source": []
  }
 ],
 "metadata": {
  "kernelspec": {
   "display_name": "Python 3.8.12(tf2)",
   "language": "python",
   "name": "tf2"
  },
  "language_info": {
   "codemirror_mode": {
    "name": "ipython",
    "version": 3
   },
   "file_extension": ".py",
   "mimetype": "text/x-python",
   "name": "python",
   "nbconvert_exporter": "python",
   "pygments_lexer": "ipython3",
   "version": "3.8.12"
  }
 },
 "nbformat": 4,
 "nbformat_minor": 5
}
