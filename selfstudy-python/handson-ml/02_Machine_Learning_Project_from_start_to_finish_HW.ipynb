{
 "cells": [
  {
   "cell_type": "markdown",
   "metadata": {},
   "source": [
    "<b>캘리포니아 지역 주택의 여러 특성을 사용해 중간 가격을 예측"
   ]
  },
  {
   "cell_type": "markdown",
   "metadata": {},
   "source": [
    "## 1."
   ]
  },
  {
   "cell_type": "markdown",
   "metadata": {
    "collapsed": true
   },
   "source": [
    "질문: 서포트 벡터 머신 회귀(`sklearn.svm.SVR`)를 `kernel=“linear”`(하이퍼파라미터 `C`를 바꿔가며)나 `kernel=“rbf”`(하이퍼파라미터 `C`와 `gamma`를 바꿔가며) 등의 다양한 하이퍼파라미터 설정으로 시도해보세요. 지금은 이 하이퍼파라미터가 무엇을 의미하는지 너무 신경 쓰지 마세요. 최상의 `SVR` 모델은 무엇인가요?\n",
    "\n",
    "**경고**: 사용하는 하드웨어에 따라 다음 셀을 실행하는데 30분 또는 그 이상 걸릴 수 있습니다."
   ]
  },
  {
   "cell_type": "code",
   "execution_count": 116,
   "metadata": {
    "execution": {
     "iopub.execute_input": "2021-11-03T03:40:42.944739Z",
     "iopub.status.busy": "2021-11-03T03:40:42.944074Z",
     "iopub.status.idle": "2021-11-03T04:38:09.200525Z",
     "shell.execute_reply": "2021-11-03T04:38:09.199877Z"
    }
   },
   "outputs": [
    {
     "name": "stdout",
     "output_type": "stream",
     "text": [
      "Fitting 5 folds for each of 50 candidates, totalling 250 fits\n",
      "[CV] END ..............................C=10.0, kernel=linear; total time=   7.9s\n",
      "[CV] END ..............................C=10.0, kernel=linear; total time=   7.8s\n",
      "[CV] END ..............................C=10.0, kernel=linear; total time=   7.8s\n",
      "[CV] END ..............................C=10.0, kernel=linear; total time=   7.8s\n",
      "[CV] END ..............................C=10.0, kernel=linear; total time=   7.8s\n",
      "[CV] END ..............................C=30.0, kernel=linear; total time=   7.8s\n",
      "[CV] END ..............................C=30.0, kernel=linear; total time=   7.7s\n",
      "[CV] END ..............................C=30.0, kernel=linear; total time=   7.9s\n",
      "[CV] END ..............................C=30.0, kernel=linear; total time=   7.8s\n",
      "[CV] END ..............................C=30.0, kernel=linear; total time=   7.8s\n",
      "[CV] END .............................C=100.0, kernel=linear; total time=   7.9s\n",
      "[CV] END .............................C=100.0, kernel=linear; total time=   7.7s\n",
      "[CV] END .............................C=100.0, kernel=linear; total time=   7.6s\n",
      "[CV] END .............................C=100.0, kernel=linear; total time=   7.8s\n",
      "[CV] END .............................C=100.0, kernel=linear; total time=   7.8s\n",
      "[CV] END .............................C=300.0, kernel=linear; total time=   8.0s\n",
      "[CV] END .............................C=300.0, kernel=linear; total time=   7.7s\n",
      "[CV] END .............................C=300.0, kernel=linear; total time=   7.7s\n",
      "[CV] END .............................C=300.0, kernel=linear; total time=   7.8s\n",
      "[CV] END .............................C=300.0, kernel=linear; total time=   7.9s\n",
      "[CV] END ............................C=1000.0, kernel=linear; total time=   8.0s\n",
      "[CV] END ............................C=1000.0, kernel=linear; total time=   8.0s\n",
      "[CV] END ............................C=1000.0, kernel=linear; total time=   8.1s\n",
      "[CV] END ............................C=1000.0, kernel=linear; total time=   8.0s\n",
      "[CV] END ............................C=1000.0, kernel=linear; total time=   8.1s\n",
      "[CV] END ............................C=3000.0, kernel=linear; total time=   9.1s\n",
      "[CV] END ............................C=3000.0, kernel=linear; total time=   8.7s\n",
      "[CV] END ............................C=3000.0, kernel=linear; total time=   8.7s\n",
      "[CV] END ............................C=3000.0, kernel=linear; total time=   8.7s\n",
      "[CV] END ............................C=3000.0, kernel=linear; total time=   8.7s\n",
      "[CV] END ...........................C=10000.0, kernel=linear; total time=  11.1s\n",
      "[CV] END ...........................C=10000.0, kernel=linear; total time=  11.1s\n",
      "[CV] END ...........................C=10000.0, kernel=linear; total time=  10.8s\n",
      "[CV] END ...........................C=10000.0, kernel=linear; total time=  10.5s\n",
      "[CV] END ...........................C=10000.0, kernel=linear; total time=  10.8s\n",
      "[CV] END ...........................C=30000.0, kernel=linear; total time=  16.9s\n",
      "[CV] END ...........................C=30000.0, kernel=linear; total time=  16.1s\n",
      "[CV] END ...........................C=30000.0, kernel=linear; total time=  15.0s\n",
      "[CV] END ...........................C=30000.0, kernel=linear; total time=  16.5s\n",
      "[CV] END ...........................C=30000.0, kernel=linear; total time=  17.2s\n",
      "[CV] END ......................C=1.0, gamma=0.01, kernel=rbf; total time=  12.8s\n",
      "[CV] END ......................C=1.0, gamma=0.01, kernel=rbf; total time=  12.8s\n",
      "[CV] END ......................C=1.0, gamma=0.01, kernel=rbf; total time=  12.8s\n",
      "[CV] END ......................C=1.0, gamma=0.01, kernel=rbf; total time=  12.8s\n",
      "[CV] END ......................C=1.0, gamma=0.01, kernel=rbf; total time=  12.8s\n",
      "[CV] END ......................C=1.0, gamma=0.03, kernel=rbf; total time=  13.1s\n",
      "[CV] END ......................C=1.0, gamma=0.03, kernel=rbf; total time=  13.1s\n",
      "[CV] END ......................C=1.0, gamma=0.03, kernel=rbf; total time=  13.0s\n",
      "[CV] END ......................C=1.0, gamma=0.03, kernel=rbf; total time=  13.1s\n",
      "[CV] END ......................C=1.0, gamma=0.03, kernel=rbf; total time=  13.0s\n",
      "[CV] END .......................C=1.0, gamma=0.1, kernel=rbf; total time=  14.5s\n",
      "[CV] END .......................C=1.0, gamma=0.1, kernel=rbf; total time=  14.6s\n",
      "[CV] END .......................C=1.0, gamma=0.1, kernel=rbf; total time=  14.5s\n",
      "[CV] END .......................C=1.0, gamma=0.1, kernel=rbf; total time=  14.5s\n",
      "[CV] END .......................C=1.0, gamma=0.1, kernel=rbf; total time=  14.5s\n",
      "[CV] END .......................C=1.0, gamma=0.3, kernel=rbf; total time=  13.5s\n",
      "[CV] END .......................C=1.0, gamma=0.3, kernel=rbf; total time=  13.5s\n",
      "[CV] END .......................C=1.0, gamma=0.3, kernel=rbf; total time=  13.5s\n",
      "[CV] END .......................C=1.0, gamma=0.3, kernel=rbf; total time=  13.5s\n",
      "[CV] END .......................C=1.0, gamma=0.3, kernel=rbf; total time=  13.5s\n",
      "[CV] END .......................C=1.0, gamma=1.0, kernel=rbf; total time=  13.0s\n",
      "[CV] END .......................C=1.0, gamma=1.0, kernel=rbf; total time=  13.0s\n",
      "[CV] END .......................C=1.0, gamma=1.0, kernel=rbf; total time=  13.0s\n",
      "[CV] END .......................C=1.0, gamma=1.0, kernel=rbf; total time=  13.0s\n",
      "[CV] END .......................C=1.0, gamma=1.0, kernel=rbf; total time=  13.0s\n",
      "[CV] END .......................C=1.0, gamma=3.0, kernel=rbf; total time=  13.9s\n",
      "[CV] END .......................C=1.0, gamma=3.0, kernel=rbf; total time=  13.9s\n",
      "[CV] END .......................C=1.0, gamma=3.0, kernel=rbf; total time=  14.0s\n",
      "[CV] END .......................C=1.0, gamma=3.0, kernel=rbf; total time=  14.0s\n",
      "[CV] END .......................C=1.0, gamma=3.0, kernel=rbf; total time=  14.0s\n",
      "[CV] END ......................C=3.0, gamma=0.01, kernel=rbf; total time=  12.8s\n",
      "[CV] END ......................C=3.0, gamma=0.01, kernel=rbf; total time=  12.8s\n",
      "[CV] END ......................C=3.0, gamma=0.01, kernel=rbf; total time=  12.8s\n",
      "[CV] END ......................C=3.0, gamma=0.01, kernel=rbf; total time=  12.8s\n",
      "[CV] END ......................C=3.0, gamma=0.01, kernel=rbf; total time=  12.8s\n",
      "[CV] END ......................C=3.0, gamma=0.03, kernel=rbf; total time=  13.0s\n",
      "[CV] END ......................C=3.0, gamma=0.03, kernel=rbf; total time=  13.1s\n",
      "[CV] END ......................C=3.0, gamma=0.03, kernel=rbf; total time=  13.0s\n",
      "[CV] END ......................C=3.0, gamma=0.03, kernel=rbf; total time=  13.1s\n",
      "[CV] END ......................C=3.0, gamma=0.03, kernel=rbf; total time=  13.0s\n",
      "[CV] END .......................C=3.0, gamma=0.1, kernel=rbf; total time=  14.5s\n",
      "[CV] END .......................C=3.0, gamma=0.1, kernel=rbf; total time=  14.5s\n",
      "[CV] END .......................C=3.0, gamma=0.1, kernel=rbf; total time=  14.5s\n",
      "[CV] END .......................C=3.0, gamma=0.1, kernel=rbf; total time=  14.5s\n",
      "[CV] END .......................C=3.0, gamma=0.1, kernel=rbf; total time=  14.5s\n",
      "[CV] END .......................C=3.0, gamma=0.3, kernel=rbf; total time=  13.5s\n",
      "[CV] END .......................C=3.0, gamma=0.3, kernel=rbf; total time=  13.5s\n",
      "[CV] END .......................C=3.0, gamma=0.3, kernel=rbf; total time=  13.5s\n",
      "[CV] END .......................C=3.0, gamma=0.3, kernel=rbf; total time=  13.5s\n",
      "[CV] END .......................C=3.0, gamma=0.3, kernel=rbf; total time=  13.5s\n",
      "[CV] END .......................C=3.0, gamma=1.0, kernel=rbf; total time=  13.0s\n",
      "[CV] END .......................C=3.0, gamma=1.0, kernel=rbf; total time=  13.0s\n",
      "[CV] END .......................C=3.0, gamma=1.0, kernel=rbf; total time=  13.0s\n",
      "[CV] END .......................C=3.0, gamma=1.0, kernel=rbf; total time=  13.0s\n",
      "[CV] END .......................C=3.0, gamma=1.0, kernel=rbf; total time=  13.0s\n",
      "[CV] END .......................C=3.0, gamma=3.0, kernel=rbf; total time=  14.0s\n",
      "[CV] END .......................C=3.0, gamma=3.0, kernel=rbf; total time=  13.9s\n",
      "[CV] END .......................C=3.0, gamma=3.0, kernel=rbf; total time=  14.0s\n",
      "[CV] END .......................C=3.0, gamma=3.0, kernel=rbf; total time=  14.0s\n",
      "[CV] END .......................C=3.0, gamma=3.0, kernel=rbf; total time=  14.0s\n",
      "[CV] END .....................C=10.0, gamma=0.01, kernel=rbf; total time=  12.8s\n",
      "[CV] END .....................C=10.0, gamma=0.01, kernel=rbf; total time=  12.8s\n",
      "[CV] END .....................C=10.0, gamma=0.01, kernel=rbf; total time=  12.8s\n",
      "[CV] END .....................C=10.0, gamma=0.01, kernel=rbf; total time=  12.8s\n",
      "[CV] END .....................C=10.0, gamma=0.01, kernel=rbf; total time=  12.8s\n",
      "[CV] END .....................C=10.0, gamma=0.03, kernel=rbf; total time=  13.0s\n",
      "[CV] END .....................C=10.0, gamma=0.03, kernel=rbf; total time=  13.1s\n",
      "[CV] END .....................C=10.0, gamma=0.03, kernel=rbf; total time=  13.0s\n",
      "[CV] END .....................C=10.0, gamma=0.03, kernel=rbf; total time=  13.1s\n",
      "[CV] END .....................C=10.0, gamma=0.03, kernel=rbf; total time=  13.0s\n",
      "[CV] END ......................C=10.0, gamma=0.1, kernel=rbf; total time=  14.5s\n",
      "[CV] END ......................C=10.0, gamma=0.1, kernel=rbf; total time=  14.5s\n",
      "[CV] END ......................C=10.0, gamma=0.1, kernel=rbf; total time=  14.5s\n",
      "[CV] END ......................C=10.0, gamma=0.1, kernel=rbf; total time=  14.5s\n",
      "[CV] END ......................C=10.0, gamma=0.1, kernel=rbf; total time=  14.5s\n",
      "[CV] END ......................C=10.0, gamma=0.3, kernel=rbf; total time=  13.4s\n",
      "[CV] END ......................C=10.0, gamma=0.3, kernel=rbf; total time=  13.5s\n",
      "[CV] END ......................C=10.0, gamma=0.3, kernel=rbf; total time=  13.5s\n",
      "[CV] END ......................C=10.0, gamma=0.3, kernel=rbf; total time=  13.5s\n",
      "[CV] END ......................C=10.0, gamma=0.3, kernel=rbf; total time=  13.5s\n",
      "[CV] END ......................C=10.0, gamma=1.0, kernel=rbf; total time=  13.0s\n",
      "[CV] END ......................C=10.0, gamma=1.0, kernel=rbf; total time=  13.0s\n",
      "[CV] END ......................C=10.0, gamma=1.0, kernel=rbf; total time=  13.0s\n",
      "[CV] END ......................C=10.0, gamma=1.0, kernel=rbf; total time=  13.0s\n",
      "[CV] END ......................C=10.0, gamma=1.0, kernel=rbf; total time=  13.0s\n",
      "[CV] END ......................C=10.0, gamma=3.0, kernel=rbf; total time=  13.9s\n",
      "[CV] END ......................C=10.0, gamma=3.0, kernel=rbf; total time=  13.9s\n",
      "[CV] END ......................C=10.0, gamma=3.0, kernel=rbf; total time=  14.0s\n",
      "[CV] END ......................C=10.0, gamma=3.0, kernel=rbf; total time=  14.0s\n",
      "[CV] END ......................C=10.0, gamma=3.0, kernel=rbf; total time=  13.9s\n",
      "[CV] END .....................C=30.0, gamma=0.01, kernel=rbf; total time=  12.8s\n",
      "[CV] END .....................C=30.0, gamma=0.01, kernel=rbf; total time=  12.8s\n",
      "[CV] END .....................C=30.0, gamma=0.01, kernel=rbf; total time=  12.8s\n",
      "[CV] END .....................C=30.0, gamma=0.01, kernel=rbf; total time=  12.8s\n",
      "[CV] END .....................C=30.0, gamma=0.01, kernel=rbf; total time=  12.8s\n",
      "[CV] END .....................C=30.0, gamma=0.03, kernel=rbf; total time=  13.0s\n",
      "[CV] END .....................C=30.0, gamma=0.03, kernel=rbf; total time=  13.0s\n",
      "[CV] END .....................C=30.0, gamma=0.03, kernel=rbf; total time=  13.0s\n",
      "[CV] END .....................C=30.0, gamma=0.03, kernel=rbf; total time=  13.0s\n",
      "[CV] END .....................C=30.0, gamma=0.03, kernel=rbf; total time=  13.0s\n",
      "[CV] END ......................C=30.0, gamma=0.1, kernel=rbf; total time=  14.4s\n",
      "[CV] END ......................C=30.0, gamma=0.1, kernel=rbf; total time=  14.5s\n",
      "[CV] END ......................C=30.0, gamma=0.1, kernel=rbf; total time=  14.4s\n",
      "[CV] END ......................C=30.0, gamma=0.1, kernel=rbf; total time=  14.4s\n",
      "[CV] END ......................C=30.0, gamma=0.1, kernel=rbf; total time=  14.4s\n",
      "[CV] END ......................C=30.0, gamma=0.3, kernel=rbf; total time=  13.4s\n",
      "[CV] END ......................C=30.0, gamma=0.3, kernel=rbf; total time=  14.8s\n",
      "[CV] END ......................C=30.0, gamma=0.3, kernel=rbf; total time=  18.3s\n",
      "[CV] END ......................C=30.0, gamma=0.3, kernel=rbf; total time=  17.2s\n",
      "[CV] END ......................C=30.0, gamma=0.3, kernel=rbf; total time=  17.9s\n",
      "[CV] END ......................C=30.0, gamma=1.0, kernel=rbf; total time=  17.3s\n",
      "[CV] END ......................C=30.0, gamma=1.0, kernel=rbf; total time=  15.4s\n",
      "[CV] END ......................C=30.0, gamma=1.0, kernel=rbf; total time=  15.3s\n",
      "[CV] END ......................C=30.0, gamma=1.0, kernel=rbf; total time=  16.2s\n",
      "[CV] END ......................C=30.0, gamma=1.0, kernel=rbf; total time=  13.0s\n",
      "[CV] END ......................C=30.0, gamma=3.0, kernel=rbf; total time=  13.9s\n",
      "[CV] END ......................C=30.0, gamma=3.0, kernel=rbf; total time=  17.6s\n",
      "[CV] END ......................C=30.0, gamma=3.0, kernel=rbf; total time=  17.7s\n",
      "[CV] END ......................C=30.0, gamma=3.0, kernel=rbf; total time=  19.0s\n",
      "[CV] END ......................C=30.0, gamma=3.0, kernel=rbf; total time=  18.3s\n",
      "[CV] END ....................C=100.0, gamma=0.01, kernel=rbf; total time=  17.0s\n",
      "[CV] END ....................C=100.0, gamma=0.01, kernel=rbf; total time=  16.6s\n",
      "[CV] END ....................C=100.0, gamma=0.01, kernel=rbf; total time=  17.6s\n",
      "[CV] END ....................C=100.0, gamma=0.01, kernel=rbf; total time=  17.7s\n",
      "[CV] END ....................C=100.0, gamma=0.01, kernel=rbf; total time=  17.9s\n",
      "[CV] END ....................C=100.0, gamma=0.03, kernel=rbf; total time=  19.1s\n",
      "[CV] END ....................C=100.0, gamma=0.03, kernel=rbf; total time=  18.5s\n",
      "[CV] END ....................C=100.0, gamma=0.03, kernel=rbf; total time=  18.1s\n",
      "[CV] END ....................C=100.0, gamma=0.03, kernel=rbf; total time=  17.9s\n",
      "[CV] END ....................C=100.0, gamma=0.03, kernel=rbf; total time=  19.1s\n",
      "[CV] END .....................C=100.0, gamma=0.1, kernel=rbf; total time=  19.7s\n",
      "[CV] END .....................C=100.0, gamma=0.1, kernel=rbf; total time=  20.2s\n",
      "[CV] END .....................C=100.0, gamma=0.1, kernel=rbf; total time=  18.9s\n",
      "[CV] END .....................C=100.0, gamma=0.1, kernel=rbf; total time=  18.0s\n",
      "[CV] END .....................C=100.0, gamma=0.1, kernel=rbf; total time=  19.5s\n",
      "[CV] END .....................C=100.0, gamma=0.3, kernel=rbf; total time=  17.3s\n",
      "[CV] END .....................C=100.0, gamma=0.3, kernel=rbf; total time=  17.9s\n",
      "[CV] END .....................C=100.0, gamma=0.3, kernel=rbf; total time=  18.0s\n",
      "[CV] END .....................C=100.0, gamma=0.3, kernel=rbf; total time=  17.4s\n",
      "[CV] END .....................C=100.0, gamma=0.3, kernel=rbf; total time=  18.2s\n",
      "[CV] END .....................C=100.0, gamma=1.0, kernel=rbf; total time=  17.1s\n",
      "[CV] END .....................C=100.0, gamma=1.0, kernel=rbf; total time=  17.9s\n",
      "[CV] END .....................C=100.0, gamma=1.0, kernel=rbf; total time=  17.2s\n",
      "[CV] END .....................C=100.0, gamma=1.0, kernel=rbf; total time=  17.3s\n",
      "[CV] END .....................C=100.0, gamma=1.0, kernel=rbf; total time=  16.8s\n",
      "[CV] END .....................C=100.0, gamma=3.0, kernel=rbf; total time=  18.6s\n",
      "[CV] END .....................C=100.0, gamma=3.0, kernel=rbf; total time=  18.3s\n",
      "[CV] END .....................C=100.0, gamma=3.0, kernel=rbf; total time=  18.6s\n",
      "[CV] END .....................C=100.0, gamma=3.0, kernel=rbf; total time=  18.5s\n",
      "[CV] END .....................C=100.0, gamma=3.0, kernel=rbf; total time=  18.5s\n",
      "[CV] END ....................C=300.0, gamma=0.01, kernel=rbf; total time=  16.4s\n",
      "[CV] END ....................C=300.0, gamma=0.01, kernel=rbf; total time=  16.8s\n",
      "[CV] END ....................C=300.0, gamma=0.01, kernel=rbf; total time=  17.1s\n",
      "[CV] END ....................C=300.0, gamma=0.01, kernel=rbf; total time=  16.8s\n",
      "[CV] END ....................C=300.0, gamma=0.01, kernel=rbf; total time=  16.6s\n",
      "[CV] END ....................C=300.0, gamma=0.03, kernel=rbf; total time=  16.6s\n",
      "[CV] END ....................C=300.0, gamma=0.03, kernel=rbf; total time=  17.0s\n",
      "[CV] END ....................C=300.0, gamma=0.03, kernel=rbf; total time=  12.6s\n",
      "[CV] END ....................C=300.0, gamma=0.03, kernel=rbf; total time=  12.6s\n",
      "[CV] END ....................C=300.0, gamma=0.03, kernel=rbf; total time=  13.1s\n",
      "[CV] END .....................C=300.0, gamma=0.1, kernel=rbf; total time=  18.2s\n",
      "[CV] END .....................C=300.0, gamma=0.1, kernel=rbf; total time=  17.7s\n",
      "[CV] END .....................C=300.0, gamma=0.1, kernel=rbf; total time=  18.3s\n",
      "[CV] END .....................C=300.0, gamma=0.1, kernel=rbf; total time=  18.1s\n",
      "[CV] END .....................C=300.0, gamma=0.1, kernel=rbf; total time=  18.1s\n",
      "[CV] END .....................C=300.0, gamma=0.3, kernel=rbf; total time=  17.6s\n",
      "[CV] END .....................C=300.0, gamma=0.3, kernel=rbf; total time=  15.3s\n",
      "[CV] END .....................C=300.0, gamma=0.3, kernel=rbf; total time=  13.2s\n",
      "[CV] END .....................C=300.0, gamma=0.3, kernel=rbf; total time=  13.1s\n",
      "[CV] END .....................C=300.0, gamma=0.3, kernel=rbf; total time=  13.2s\n",
      "[CV] END .....................C=300.0, gamma=1.0, kernel=rbf; total time=  12.9s\n",
      "[CV] END .....................C=300.0, gamma=1.0, kernel=rbf; total time=  12.9s\n",
      "[CV] END .....................C=300.0, gamma=1.0, kernel=rbf; total time=  12.9s\n",
      "[CV] END .....................C=300.0, gamma=1.0, kernel=rbf; total time=  12.9s\n",
      "[CV] END .....................C=300.0, gamma=1.0, kernel=rbf; total time=  12.9s\n",
      "[CV] END .....................C=300.0, gamma=3.0, kernel=rbf; total time=  13.9s\n",
      "[CV] END .....................C=300.0, gamma=3.0, kernel=rbf; total time=  13.9s\n",
      "[CV] END .....................C=300.0, gamma=3.0, kernel=rbf; total time=  13.9s\n",
      "[CV] END .....................C=300.0, gamma=3.0, kernel=rbf; total time=  14.0s\n",
      "[CV] END .....................C=300.0, gamma=3.0, kernel=rbf; total time=  13.9s\n",
      "[CV] END ...................C=1000.0, gamma=0.01, kernel=rbf; total time=  12.2s\n",
      "[CV] END ...................C=1000.0, gamma=0.01, kernel=rbf; total time=  12.2s\n",
      "[CV] END ...................C=1000.0, gamma=0.01, kernel=rbf; total time=  12.2s\n",
      "[CV] END ...................C=1000.0, gamma=0.01, kernel=rbf; total time=  12.2s\n",
      "[CV] END ...................C=1000.0, gamma=0.01, kernel=rbf; total time=  12.2s\n",
      "[CV] END ...................C=1000.0, gamma=0.03, kernel=rbf; total time=  12.3s\n",
      "[CV] END ...................C=1000.0, gamma=0.03, kernel=rbf; total time=  12.3s\n",
      "[CV] END ...................C=1000.0, gamma=0.03, kernel=rbf; total time=  12.3s\n",
      "[CV] END ...................C=1000.0, gamma=0.03, kernel=rbf; total time=  12.4s\n",
      "[CV] END ...................C=1000.0, gamma=0.03, kernel=rbf; total time=  12.3s\n",
      "[CV] END ....................C=1000.0, gamma=0.1, kernel=rbf; total time=  13.7s\n",
      "[CV] END ....................C=1000.0, gamma=0.1, kernel=rbf; total time=  13.7s\n",
      "[CV] END ....................C=1000.0, gamma=0.1, kernel=rbf; total time=  13.7s\n",
      "[CV] END ....................C=1000.0, gamma=0.1, kernel=rbf; total time=  13.7s\n",
      "[CV] END ....................C=1000.0, gamma=0.1, kernel=rbf; total time=  13.7s\n",
      "[CV] END ....................C=1000.0, gamma=0.3, kernel=rbf; total time=  13.0s\n",
      "[CV] END ....................C=1000.0, gamma=0.3, kernel=rbf; total time=  13.0s\n",
      "[CV] END ....................C=1000.0, gamma=0.3, kernel=rbf; total time=  13.0s\n",
      "[CV] END ....................C=1000.0, gamma=0.3, kernel=rbf; total time=  13.0s\n",
      "[CV] END ....................C=1000.0, gamma=0.3, kernel=rbf; total time=  13.0s\n",
      "[CV] END ....................C=1000.0, gamma=1.0, kernel=rbf; total time=  12.9s\n",
      "[CV] END ....................C=1000.0, gamma=1.0, kernel=rbf; total time=  12.9s\n",
      "[CV] END ....................C=1000.0, gamma=1.0, kernel=rbf; total time=  12.9s\n",
      "[CV] END ....................C=1000.0, gamma=1.0, kernel=rbf; total time=  12.9s\n",
      "[CV] END ....................C=1000.0, gamma=1.0, kernel=rbf; total time=  12.9s\n",
      "[CV] END ....................C=1000.0, gamma=3.0, kernel=rbf; total time=  14.0s\n",
      "[CV] END ....................C=1000.0, gamma=3.0, kernel=rbf; total time=  14.0s\n",
      "[CV] END ....................C=1000.0, gamma=3.0, kernel=rbf; total time=  14.0s\n",
      "[CV] END ....................C=1000.0, gamma=3.0, kernel=rbf; total time=  14.0s\n",
      "[CV] END ....................C=1000.0, gamma=3.0, kernel=rbf; total time=  14.0s\n"
     ]
    },
    {
     "data": {
      "text/plain": [
       "GridSearchCV(cv=5, estimator=SVR(),\n",
       "             param_grid=[{'C': [10.0, 30.0, 100.0, 300.0, 1000.0, 3000.0,\n",
       "                                10000.0, 30000.0],\n",
       "                          'kernel': ['linear']},\n",
       "                         {'C': [1.0, 3.0, 10.0, 30.0, 100.0, 300.0, 1000.0],\n",
       "                          'gamma': [0.01, 0.03, 0.1, 0.3, 1.0, 3.0],\n",
       "                          'kernel': ['rbf']}],\n",
       "             scoring='neg_mean_squared_error', verbose=2)"
      ]
     },
     "execution_count": 116,
     "metadata": {},
     "output_type": "execute_result"
    }
   ],
   "source": [
    "from sklearn.model_selection import GridSearchCV\n",
    "\n",
    "param_grid = [\n",
    "        {'kernel': ['linear'], 'C': [10., 30., 100., 300., 1000., 3000., 10000., 30000.0]},\n",
    "        {'kernel': ['rbf'], 'C': [1.0, 3.0, 10., 30., 100., 300., 1000.0],\n",
    "         'gamma': [0.01, 0.03, 0.1, 0.3, 1.0, 3.0]},\n",
    "    ]\n",
    "\n",
    "svm_reg = SVR()\n",
    "grid_search = GridSearchCV(svm_reg, param_grid, cv=5, scoring='neg_mean_squared_error', verbose=2)\n",
    "grid_search.fit(housing_prepared, housing_labels)"
   ]
  },
  {
   "cell_type": "markdown",
   "metadata": {},
   "source": [
    "최상 모델의 (5-폴드 교차 검증으로 평가한) 점수는 다음과 같습니다:"
   ]
  },
  {
   "cell_type": "code",
   "execution_count": 117,
   "metadata": {
    "execution": {
     "iopub.execute_input": "2021-11-03T04:38:09.205126Z",
     "iopub.status.busy": "2021-11-03T04:38:09.204525Z",
     "iopub.status.idle": "2021-11-03T04:38:09.207046Z",
     "shell.execute_reply": "2021-11-03T04:38:09.207492Z"
    }
   },
   "outputs": [
    {
     "data": {
      "text/plain": [
       "70286.61835383571"
      ]
     },
     "execution_count": 117,
     "metadata": {},
     "output_type": "execute_result"
    }
   ],
   "source": [
    "negative_mse = grid_search.best_score_\n",
    "rmse = np.sqrt(-negative_mse)\n",
    "rmse"
   ]
  },
  {
   "cell_type": "markdown",
   "metadata": {},
   "source": [
    "`RandomForestRegressor`보다 훨씬 좋지 않네요. 최상의 하이퍼파라미터를 확인해 보겠습니다:"
   ]
  },
  {
   "cell_type": "code",
   "execution_count": 118,
   "metadata": {
    "execution": {
     "iopub.execute_input": "2021-11-03T04:38:09.211320Z",
     "iopub.status.busy": "2021-11-03T04:38:09.209766Z",
     "iopub.status.idle": "2021-11-03T04:38:09.213885Z",
     "shell.execute_reply": "2021-11-03T04:38:09.214295Z"
    }
   },
   "outputs": [
    {
     "data": {
      "text/plain": [
       "{'C': 30000.0, 'kernel': 'linear'}"
      ]
     },
     "execution_count": 118,
     "metadata": {},
     "output_type": "execute_result"
    }
   ],
   "source": [
    "grid_search.best_params_"
   ]
  },
  {
   "cell_type": "markdown",
   "metadata": {},
   "source": [
    "선형 커널이 RBF 커널보다 성능이 나은 것 같습니다. `C`는 테스트한 것 중에 최대값이 선택되었습니다. 따라서 (작은 값들은 지우고) 더 큰 값의 `C`로 그리드서치를 다시 실행해 보아야 합니다. 아마도 더 큰 값의 `C`에서 성능이 높아질 것입니다."
   ]
  },
  {
   "cell_type": "markdown",
   "metadata": {},
   "source": [
    "## 2."
   ]
  },
  {
   "cell_type": "markdown",
   "metadata": {},
   "source": [
    "질문: `GridSearchCV`를 `RandomizedSearchCV`로 바꿔보세요.\n",
    "\n",
    "**경고**: 사용하는 하드웨어에 따라 다음 셀을 실행하는데 45분 또는 그 이상 걸릴 수 있습니다."
   ]
  },
  {
   "cell_type": "code",
   "execution_count": 119,
   "metadata": {
    "execution": {
     "iopub.execute_input": "2021-11-03T04:38:09.229776Z",
     "iopub.status.busy": "2021-11-03T04:38:09.229105Z",
     "iopub.status.idle": "2021-11-03T05:54:17.028868Z",
     "shell.execute_reply": "2021-11-03T05:54:17.029317Z"
    }
   },
   "outputs": [
    {
     "name": "stdout",
     "output_type": "stream",
     "text": [
      "Fitting 5 folds for each of 50 candidates, totalling 250 fits\n",
      "[CV] END C=629.782329591372, gamma=3.010121430917521, kernel=linear; total time=   8.0s\n",
      "[CV] END C=629.782329591372, gamma=3.010121430917521, kernel=linear; total time=   7.8s\n",
      "[CV] END C=629.782329591372, gamma=3.010121430917521, kernel=linear; total time=   7.9s\n",
      "[CV] END C=629.782329591372, gamma=3.010121430917521, kernel=linear; total time=   7.9s\n",
      "[CV] END C=629.782329591372, gamma=3.010121430917521, kernel=linear; total time=   7.9s\n",
      "[CV] END C=26290.206464300216, gamma=0.9084469696321253, kernel=rbf; total time=  15.5s\n",
      "[CV] END C=26290.206464300216, gamma=0.9084469696321253, kernel=rbf; total time=  15.6s\n",
      "[CV] END C=26290.206464300216, gamma=0.9084469696321253, kernel=rbf; total time=  16.0s\n",
      "[CV] END C=26290.206464300216, gamma=0.9084469696321253, kernel=rbf; total time=  15.9s\n",
      "[CV] END C=26290.206464300216, gamma=0.9084469696321253, kernel=rbf; total time=  15.6s\n",
      "[CV] END C=84.14107900575871, gamma=0.059838768608680676, kernel=rbf; total time=  13.8s\n",
      "[CV] END C=84.14107900575871, gamma=0.059838768608680676, kernel=rbf; total time=  13.8s\n",
      "[CV] END C=84.14107900575871, gamma=0.059838768608680676, kernel=rbf; total time=  13.7s\n",
      "[CV] END C=84.14107900575871, gamma=0.059838768608680676, kernel=rbf; total time=  13.8s\n",
      "[CV] END C=84.14107900575871, gamma=0.059838768608680676, kernel=rbf; total time=  13.7s\n",
      "[CV] END C=432.37884813148855, gamma=0.15416196746656105, kernel=linear; total time=   7.9s\n",
      "[CV] END C=432.37884813148855, gamma=0.15416196746656105, kernel=linear; total time=   7.7s\n",
      "[CV] END C=432.37884813148855, gamma=0.15416196746656105, kernel=linear; total time=   7.8s\n",
      "[CV] END C=432.37884813148855, gamma=0.15416196746656105, kernel=linear; total time=   7.9s\n",
      "[CV] END C=432.37884813148855, gamma=0.15416196746656105, kernel=linear; total time=   8.0s\n",
      "[CV] END C=24.17508294611391, gamma=3.503557475158312, kernel=rbf; total time=  14.5s\n",
      "[CV] END C=24.17508294611391, gamma=3.503557475158312, kernel=rbf; total time=  14.4s\n",
      "[CV] END C=24.17508294611391, gamma=3.503557475158312, kernel=rbf; total time=  14.5s\n",
      "[CV] END C=24.17508294611391, gamma=3.503557475158312, kernel=rbf; total time=  14.5s\n",
      "[CV] END C=24.17508294611391, gamma=3.503557475158312, kernel=rbf; total time=  14.4s\n",
      "[CV] END C=113564.03940586245, gamma=0.0007790692366582295, kernel=rbf; total time=  12.8s\n",
      "[CV] END C=113564.03940586245, gamma=0.0007790692366582295, kernel=rbf; total time=  12.9s\n",
      "[CV] END C=113564.03940586245, gamma=0.0007790692366582295, kernel=rbf; total time=  12.9s\n",
      "[CV] END C=113564.03940586245, gamma=0.0007790692366582295, kernel=rbf; total time=  12.9s\n",
      "[CV] END C=113564.03940586245, gamma=0.0007790692366582295, kernel=rbf; total time=  12.9s\n",
      "[CV] END C=108.30488238805073, gamma=0.3627537294604771, kernel=rbf; total time=  13.2s\n",
      "[CV] END C=108.30488238805073, gamma=0.3627537294604771, kernel=rbf; total time=  13.2s\n",
      "[CV] END C=108.30488238805073, gamma=0.3627537294604771, kernel=rbf; total time=  13.2s\n",
      "[CV] END C=108.30488238805073, gamma=0.3627537294604771, kernel=rbf; total time=  13.2s\n",
      "[CV] END C=108.30488238805073, gamma=0.3627537294604771, kernel=rbf; total time=  13.2s\n",
      "[CV] END C=21.344953672647435, gamma=0.023332523598323388, kernel=linear; total time=   7.8s\n",
      "[CV] END C=21.344953672647435, gamma=0.023332523598323388, kernel=linear; total time=   7.7s\n",
      "[CV] END C=21.344953672647435, gamma=0.023332523598323388, kernel=linear; total time=   7.9s\n",
      "[CV] END C=21.344953672647435, gamma=0.023332523598323388, kernel=linear; total time=   7.7s\n",
      "[CV] END C=21.344953672647435, gamma=0.023332523598323388, kernel=linear; total time=   7.8s\n",
      "[CV] END C=5603.270317432516, gamma=0.15023452872733867, kernel=rbf; total time=  13.4s\n",
      "[CV] END C=5603.270317432516, gamma=0.15023452872733867, kernel=rbf; total time=  13.4s\n",
      "[CV] END C=5603.270317432516, gamma=0.15023452872733867, kernel=rbf; total time=  13.4s\n",
      "[CV] END C=5603.270317432516, gamma=0.15023452872733867, kernel=rbf; total time=  13.4s\n",
      "[CV] END C=5603.270317432516, gamma=0.15023452872733867, kernel=rbf; total time=  13.3s\n",
      "[CV] END C=157055.10989448498, gamma=0.26497040005002437, kernel=rbf; total time=  29.9s\n",
      "[CV] END C=157055.10989448498, gamma=0.26497040005002437, kernel=rbf; total time=  31.0s\n",
      "[CV] END C=157055.10989448498, gamma=0.26497040005002437, kernel=rbf; total time=  32.4s\n",
      "[CV] END C=157055.10989448498, gamma=0.26497040005002437, kernel=rbf; total time=  29.0s\n",
      "[CV] END C=157055.10989448498, gamma=0.26497040005002437, kernel=rbf; total time=  32.0s\n",
      "[CV] END C=27652.464358739708, gamma=0.2227358621286903, kernel=linear; total time=  18.0s\n",
      "[CV] END C=27652.464358739708, gamma=0.2227358621286903, kernel=linear; total time=  15.8s\n",
      "[CV] END C=27652.464358739708, gamma=0.2227358621286903, kernel=linear; total time=  15.3s\n",
      "[CV] END C=27652.464358739708, gamma=0.2227358621286903, kernel=linear; total time=  16.7s\n",
      "[CV] END C=27652.464358739708, gamma=0.2227358621286903, kernel=linear; total time=  16.5s\n",
      "[CV] END C=171377.39570378003, gamma=0.628789100540856, kernel=linear; total time=  45.8s\n",
      "[CV] END C=171377.39570378003, gamma=0.628789100540856, kernel=linear; total time=  53.5s\n",
      "[CV] END C=171377.39570378003, gamma=0.628789100540856, kernel=linear; total time=  44.3s\n",
      "[CV] END C=171377.39570378003, gamma=0.628789100540856, kernel=linear; total time=  60.0s\n",
      "[CV] END C=171377.39570378003, gamma=0.628789100540856, kernel=linear; total time=  46.8s\n",
      "[CV] END C=5385.293820172355, gamma=0.18696125197741642, kernel=linear; total time=   9.8s\n",
      "[CV] END C=5385.293820172355, gamma=0.18696125197741642, kernel=linear; total time=   9.3s\n",
      "[CV] END C=5385.293820172355, gamma=0.18696125197741642, kernel=linear; total time=   9.4s\n",
      "[CV] END C=5385.293820172355, gamma=0.18696125197741642, kernel=linear; total time=   9.3s\n",
      "[CV] END C=5385.293820172355, gamma=0.18696125197741642, kernel=linear; total time=   9.3s\n",
      "[CV] END C=22.59903216621323, gamma=2.850796878935603, kernel=rbf; total time=  13.8s\n",
      "[CV] END C=22.59903216621323, gamma=2.850796878935603, kernel=rbf; total time=  13.9s\n",
      "[CV] END C=22.59903216621323, gamma=2.850796878935603, kernel=rbf; total time=  13.9s\n",
      "[CV] END C=22.59903216621323, gamma=2.850796878935603, kernel=rbf; total time=  13.9s\n",
      "[CV] END C=22.59903216621323, gamma=2.850796878935603, kernel=rbf; total time=  13.9s\n",
      "[CV] END C=34246.75194632794, gamma=0.3632878599687583, kernel=linear; total time=  19.6s\n",
      "[CV] END C=34246.75194632794, gamma=0.3632878599687583, kernel=linear; total time=  19.6s\n",
      "[CV] END C=34246.75194632794, gamma=0.3632878599687583, kernel=linear; total time=  16.0s\n",
      "[CV] END C=34246.75194632794, gamma=0.3632878599687583, kernel=linear; total time=  17.3s\n",
      "[CV] END C=34246.75194632794, gamma=0.3632878599687583, kernel=linear; total time=  19.5s\n",
      "[CV] END C=167.7278956080511, gamma=0.2757870542258224, kernel=rbf; total time=  13.3s\n",
      "[CV] END C=167.7278956080511, gamma=0.2757870542258224, kernel=rbf; total time=  13.3s\n",
      "[CV] END C=167.7278956080511, gamma=0.2757870542258224, kernel=rbf; total time=  13.3s\n",
      "[CV] END C=167.7278956080511, gamma=0.2757870542258224, kernel=rbf; total time=  13.3s\n",
      "[CV] END C=167.7278956080511, gamma=0.2757870542258224, kernel=rbf; total time=  13.3s\n",
      "[CV] END C=61.54360542501371, gamma=0.6835472281341501, kernel=linear; total time=   7.8s\n",
      "[CV] END C=61.54360542501371, gamma=0.6835472281341501, kernel=linear; total time=   7.6s\n",
      "[CV] END C=61.54360542501371, gamma=0.6835472281341501, kernel=linear; total time=   7.6s\n",
      "[CV] END C=61.54360542501371, gamma=0.6835472281341501, kernel=linear; total time=   7.7s\n",
      "[CV] END C=61.54360542501371, gamma=0.6835472281341501, kernel=linear; total time=   7.7s\n",
      "[CV] END C=98.73897389920914, gamma=0.4960365360493639, kernel=rbf; total time=  13.1s\n",
      "[CV] END C=98.73897389920914, gamma=0.4960365360493639, kernel=rbf; total time=  13.2s\n",
      "[CV] END C=98.73897389920914, gamma=0.4960365360493639, kernel=rbf; total time=  13.1s\n",
      "[CV] END C=98.73897389920914, gamma=0.4960365360493639, kernel=rbf; total time=  13.1s\n",
      "[CV] END C=98.73897389920914, gamma=0.4960365360493639, kernel=rbf; total time=  13.1s\n",
      "[CV] END C=8935.505635947808, gamma=0.37354658165762367, kernel=rbf; total time=  13.1s\n",
      "[CV] END C=8935.505635947808, gamma=0.37354658165762367, kernel=rbf; total time=  13.0s\n",
      "[CV] END C=8935.505635947808, gamma=0.37354658165762367, kernel=rbf; total time=  13.1s\n",
      "[CV] END C=8935.505635947808, gamma=0.37354658165762367, kernel=rbf; total time=  13.0s\n",
      "[CV] END C=8935.505635947808, gamma=0.37354658165762367, kernel=rbf; total time=  13.1s\n",
      "[CV] END C=135.76775824842434, gamma=0.838636245624803, kernel=linear; total time=   7.8s\n",
      "[CV] END C=135.76775824842434, gamma=0.838636245624803, kernel=linear; total time=   7.6s\n",
      "[CV] END C=135.76775824842434, gamma=0.838636245624803, kernel=linear; total time=   7.6s\n",
      "[CV] END C=135.76775824842434, gamma=0.838636245624803, kernel=linear; total time=   7.8s\n",
      "[CV] END C=135.76775824842434, gamma=0.838636245624803, kernel=linear; total time=   7.8s\n",
      "[CV] END C=151136.20282548846, gamma=1.4922453771381408, kernel=rbf; total time= 2.5min\n",
      "[CV] END C=151136.20282548846, gamma=1.4922453771381408, kernel=rbf; total time= 2.4min\n",
      "[CV] END C=151136.20282548846, gamma=1.4922453771381408, kernel=rbf; total time= 2.6min\n",
      "[CV] END C=151136.20282548846, gamma=1.4922453771381408, kernel=rbf; total time= 2.3min\n",
      "[CV] END C=151136.20282548846, gamma=1.4922453771381408, kernel=rbf; total time= 2.3min\n",
      "[CV] END C=761.4316758498783, gamma=2.6126336514161914, kernel=linear; total time=   8.0s\n",
      "[CV] END C=761.4316758498783, gamma=2.6126336514161914, kernel=linear; total time=   7.9s\n",
      "[CV] END C=761.4316758498783, gamma=2.6126336514161914, kernel=linear; total time=   7.8s\n",
      "[CV] END C=761.4316758498783, gamma=2.6126336514161914, kernel=linear; total time=   7.9s\n",
      "[CV] END C=761.4316758498783, gamma=2.6126336514161914, kernel=linear; total time=   8.1s\n",
      "[CV] END C=97392.81883041795, gamma=0.09265545895311562, kernel=linear; total time=  35.4s\n",
      "[CV] END C=97392.81883041795, gamma=0.09265545895311562, kernel=linear; total time=  36.0s\n",
      "[CV] END C=97392.81883041795, gamma=0.09265545895311562, kernel=linear; total time=  30.2s\n",
      "[CV] END C=97392.81883041795, gamma=0.09265545895311562, kernel=linear; total time=  47.9s\n",
      "[CV] END C=97392.81883041795, gamma=0.09265545895311562, kernel=linear; total time=  37.4s\n",
      "[CV] END C=2423.0759984939164, gamma=3.248614270240346, kernel=linear; total time=   8.5s\n",
      "[CV] END C=2423.0759984939164, gamma=3.248614270240346, kernel=linear; total time=   8.5s\n",
      "[CV] END C=2423.0759984939164, gamma=3.248614270240346, kernel=linear; total time=   8.3s\n",
      "[CV] END C=2423.0759984939164, gamma=3.248614270240346, kernel=linear; total time=   8.7s\n",
      "[CV] END C=2423.0759984939164, gamma=3.248614270240346, kernel=linear; total time=   8.6s\n",
      "[CV] END C=717.3632997255095, gamma=0.3165604432088257, kernel=linear; total time=   8.0s\n",
      "[CV] END C=717.3632997255095, gamma=0.3165604432088257, kernel=linear; total time=   7.9s\n",
      "[CV] END C=717.3632997255095, gamma=0.3165604432088257, kernel=linear; total time=   7.9s\n",
      "[CV] END C=717.3632997255095, gamma=0.3165604432088257, kernel=linear; total time=   7.9s\n",
      "[CV] END C=717.3632997255095, gamma=0.3165604432088257, kernel=linear; total time=   7.9s\n",
      "[CV] END C=4446.667521184072, gamma=3.3597284456608496, kernel=rbf; total time=  14.4s\n",
      "[CV] END C=4446.667521184072, gamma=3.3597284456608496, kernel=rbf; total time=  14.5s\n",
      "[CV] END C=4446.667521184072, gamma=3.3597284456608496, kernel=rbf; total time=  14.5s\n",
      "[CV] END C=4446.667521184072, gamma=3.3597284456608496, kernel=rbf; total time=  14.5s\n",
      "[CV] END C=4446.667521184072, gamma=3.3597284456608496, kernel=rbf; total time=  14.5s\n",
      "[CV] END C=2963.564121207815, gamma=0.15189814782062885, kernel=linear; total time=   8.5s\n",
      "[CV] END C=2963.564121207815, gamma=0.15189814782062885, kernel=linear; total time=   9.0s\n",
      "[CV] END C=2963.564121207815, gamma=0.15189814782062885, kernel=linear; total time=   8.8s\n",
      "[CV] END C=2963.564121207815, gamma=0.15189814782062885, kernel=linear; total time=   8.6s\n",
      "[CV] END C=2963.564121207815, gamma=0.15189814782062885, kernel=linear; total time=   8.5s\n",
      "[CV] END C=91.64267381686706, gamma=0.01575994483585621, kernel=linear; total time=   7.8s\n",
      "[CV] END C=91.64267381686706, gamma=0.01575994483585621, kernel=linear; total time=   7.6s\n",
      "[CV] END C=91.64267381686706, gamma=0.01575994483585621, kernel=linear; total time=   7.6s\n",
      "[CV] END C=91.64267381686706, gamma=0.01575994483585621, kernel=linear; total time=   7.7s\n",
      "[CV] END C=91.64267381686706, gamma=0.01575994483585621, kernel=linear; total time=   7.7s\n",
      "[CV] END C=24547.601975705915, gamma=0.22153944050588595, kernel=rbf; total time=  13.7s\n",
      "[CV] END C=24547.601975705915, gamma=0.22153944050588595, kernel=rbf; total time=  13.7s\n",
      "[CV] END C=24547.601975705915, gamma=0.22153944050588595, kernel=rbf; total time=  13.7s\n",
      "[CV] END C=24547.601975705915, gamma=0.22153944050588595, kernel=rbf; total time=  13.7s\n",
      "[CV] END C=24547.601975705915, gamma=0.22153944050588595, kernel=rbf; total time=  13.8s\n",
      "[CV] END C=22.76927941060928, gamma=0.22169760231351215, kernel=rbf; total time=  13.6s\n",
      "[CV] END C=22.76927941060928, gamma=0.22169760231351215, kernel=rbf; total time=  13.7s\n",
      "[CV] END C=22.76927941060928, gamma=0.22169760231351215, kernel=rbf; total time=  13.6s\n",
      "[CV] END C=22.76927941060928, gamma=0.22169760231351215, kernel=rbf; total time=  13.7s\n",
      "[CV] END C=22.76927941060928, gamma=0.22169760231351215, kernel=rbf; total time=  13.6s\n",
      "[CV] END C=16483.850529752886, gamma=1.4752145260435134, kernel=linear; total time=  13.2s\n",
      "[CV] END C=16483.850529752886, gamma=1.4752145260435134, kernel=linear; total time=  12.1s\n",
      "[CV] END C=16483.850529752886, gamma=1.4752145260435134, kernel=linear; total time=  12.0s\n",
      "[CV] END C=16483.850529752886, gamma=1.4752145260435134, kernel=linear; total time=  13.7s\n",
      "[CV] END C=16483.850529752886, gamma=1.4752145260435134, kernel=linear; total time=  12.6s\n",
      "[CV] END C=101445.66881340064, gamma=1.052904084582266, kernel=rbf; total time=  58.8s\n",
      "[CV] END C=101445.66881340064, gamma=1.052904084582266, kernel=rbf; total time= 1.1min\n",
      "[CV] END C=101445.66881340064, gamma=1.052904084582266, kernel=rbf; total time=  54.6s\n",
      "[CV] END C=101445.66881340064, gamma=1.052904084582266, kernel=rbf; total time= 1.0min\n",
      "[CV] END C=101445.66881340064, gamma=1.052904084582266, kernel=rbf; total time= 1.2min\n",
      "[CV] END C=56681.80859029545, gamma=0.9763011917123741, kernel=rbf; total time=  23.9s\n",
      "[CV] END C=56681.80859029545, gamma=0.9763011917123741, kernel=rbf; total time=  25.0s\n",
      "[CV] END C=56681.80859029545, gamma=0.9763011917123741, kernel=rbf; total time=  24.0s\n",
      "[CV] END C=56681.80859029545, gamma=0.9763011917123741, kernel=rbf; total time=  28.1s\n",
      "[CV] END C=56681.80859029545, gamma=0.9763011917123741, kernel=rbf; total time=  25.4s\n",
      "[CV] END C=48.15822390928914, gamma=0.4633351167983427, kernel=rbf; total time=  13.2s\n",
      "[CV] END C=48.15822390928914, gamma=0.4633351167983427, kernel=rbf; total time=  13.2s\n",
      "[CV] END C=48.15822390928914, gamma=0.4633351167983427, kernel=rbf; total time=  13.2s\n",
      "[CV] END C=48.15822390928914, gamma=0.4633351167983427, kernel=rbf; total time=  13.2s\n",
      "[CV] END C=48.15822390928914, gamma=0.4633351167983427, kernel=rbf; total time=  13.2s\n",
      "[CV] END C=399.7268155705774, gamma=1.3078757839577408, kernel=rbf; total time=  13.0s\n",
      "[CV] END C=399.7268155705774, gamma=1.3078757839577408, kernel=rbf; total time=  13.0s\n",
      "[CV] END C=399.7268155705774, gamma=1.3078757839577408, kernel=rbf; total time=  12.9s\n",
      "[CV] END C=399.7268155705774, gamma=1.3078757839577408, kernel=rbf; total time=  13.0s\n",
      "[CV] END C=399.7268155705774, gamma=1.3078757839577408, kernel=rbf; total time=  13.0s\n",
      "[CV] END C=251.14073886281363, gamma=0.8238105204914145, kernel=linear; total time=   7.9s\n",
      "[CV] END C=251.14073886281363, gamma=0.8238105204914145, kernel=linear; total time=   7.7s\n",
      "[CV] END C=251.14073886281363, gamma=0.8238105204914145, kernel=linear; total time=   7.7s\n",
      "[CV] END C=251.14073886281363, gamma=0.8238105204914145, kernel=linear; total time=   7.8s\n",
      "[CV] END C=251.14073886281363, gamma=0.8238105204914145, kernel=linear; total time=   7.8s\n",
      "[CV] END C=60.17373642891687, gamma=1.2491263443165994, kernel=linear; total time=   7.8s\n",
      "[CV] END C=60.17373642891687, gamma=1.2491263443165994, kernel=linear; total time=   7.6s\n",
      "[CV] END C=60.17373642891687, gamma=1.2491263443165994, kernel=linear; total time=   7.6s\n",
      "[CV] END C=60.17373642891687, gamma=1.2491263443165994, kernel=linear; total time=   7.7s\n",
      "[CV] END C=60.17373642891687, gamma=1.2491263443165994, kernel=linear; total time=   7.8s\n",
      "[CV] END C=15415.161544891856, gamma=0.2691677514619319, kernel=rbf; total time=  13.3s\n",
      "[CV] END C=15415.161544891856, gamma=0.2691677514619319, kernel=rbf; total time=  13.4s\n",
      "[CV] END C=15415.161544891856, gamma=0.2691677514619319, kernel=rbf; total time=  13.4s\n",
      "[CV] END C=15415.161544891856, gamma=0.2691677514619319, kernel=rbf; total time=  13.4s\n",
      "[CV] END C=15415.161544891856, gamma=0.2691677514619319, kernel=rbf; total time=  13.4s\n",
      "[CV] END C=1888.9148509967113, gamma=0.739678838777267, kernel=linear; total time=   8.3s\n",
      "[CV] END C=1888.9148509967113, gamma=0.739678838777267, kernel=linear; total time=   8.3s\n",
      "[CV] END C=1888.9148509967113, gamma=0.739678838777267, kernel=linear; total time=   8.2s\n",
      "[CV] END C=1888.9148509967113, gamma=0.739678838777267, kernel=linear; total time=   8.2s\n",
      "[CV] END C=1888.9148509967113, gamma=0.739678838777267, kernel=linear; total time=   8.2s\n",
      "[CV] END C=55.53838911232773, gamma=0.578634378499143, kernel=linear; total time=   7.8s\n",
      "[CV] END C=55.53838911232773, gamma=0.578634378499143, kernel=linear; total time=   7.7s\n",
      "[CV] END C=55.53838911232773, gamma=0.578634378499143, kernel=linear; total time=   7.6s\n",
      "[CV] END C=55.53838911232773, gamma=0.578634378499143, kernel=linear; total time=   7.8s\n",
      "[CV] END C=55.53838911232773, gamma=0.578634378499143, kernel=linear; total time=   7.7s\n",
      "[CV] END C=26.714480823948186, gamma=1.0117295509275495, kernel=rbf; total time=  13.0s\n",
      "[CV] END C=26.714480823948186, gamma=1.0117295509275495, kernel=rbf; total time=  13.0s\n",
      "[CV] END C=26.714480823948186, gamma=1.0117295509275495, kernel=rbf; total time=  13.0s\n",
      "[CV] END C=26.714480823948186, gamma=1.0117295509275495, kernel=rbf; total time=  13.0s\n",
      "[CV] END C=26.714480823948186, gamma=1.0117295509275495, kernel=rbf; total time=  13.0s\n",
      "[CV] END C=3582.0552780489566, gamma=1.1891370222133257, kernel=linear; total time=   8.9s\n",
      "[CV] END C=3582.0552780489566, gamma=1.1891370222133257, kernel=linear; total time=   9.0s\n",
      "[CV] END C=3582.0552780489566, gamma=1.1891370222133257, kernel=linear; total time=   8.6s\n",
      "[CV] END C=3582.0552780489566, gamma=1.1891370222133257, kernel=linear; total time=   9.8s\n",
      "[CV] END C=3582.0552780489566, gamma=1.1891370222133257, kernel=linear; total time=   9.0s\n",
      "[CV] END C=198.7004781812736, gamma=0.5282819748826726, kernel=linear; total time=   7.8s\n",
      "[CV] END C=198.7004781812736, gamma=0.5282819748826726, kernel=linear; total time=   7.6s\n",
      "[CV] END C=198.7004781812736, gamma=0.5282819748826726, kernel=linear; total time=   7.7s\n",
      "[CV] END C=198.7004781812736, gamma=0.5282819748826726, kernel=linear; total time=   7.8s\n",
      "[CV] END C=198.7004781812736, gamma=0.5282819748826726, kernel=linear; total time=   7.8s\n",
      "[CV] END C=129.8000604143307, gamma=2.8621383676481322, kernel=linear; total time=   7.8s\n",
      "[CV] END C=129.8000604143307, gamma=2.8621383676481322, kernel=linear; total time=   7.6s\n",
      "[CV] END C=129.8000604143307, gamma=2.8621383676481322, kernel=linear; total time=   7.6s\n",
      "[CV] END C=129.8000604143307, gamma=2.8621383676481322, kernel=linear; total time=   7.7s\n",
      "[CV] END C=129.8000604143307, gamma=2.8621383676481322, kernel=linear; total time=   7.8s\n",
      "[CV] END C=288.4269299593897, gamma=0.17580835850006285, kernel=rbf; total time=  13.4s\n",
      "[CV] END C=288.4269299593897, gamma=0.17580835850006285, kernel=rbf; total time=  13.5s\n",
      "[CV] END C=288.4269299593897, gamma=0.17580835850006285, kernel=rbf; total time=  13.5s\n",
      "[CV] END C=288.4269299593897, gamma=0.17580835850006285, kernel=rbf; total time=  13.5s\n",
      "[CV] END C=288.4269299593897, gamma=0.17580835850006285, kernel=rbf; total time=  13.5s\n",
      "[CV] END C=6287.039489427172, gamma=0.3504567255332862, kernel=linear; total time=   9.7s\n",
      "[CV] END C=6287.039489427172, gamma=0.3504567255332862, kernel=linear; total time=   9.8s\n",
      "[CV] END C=6287.039489427172, gamma=0.3504567255332862, kernel=linear; total time=   9.2s\n",
      "[CV] END C=6287.039489427172, gamma=0.3504567255332862, kernel=linear; total time=   9.6s\n",
      "[CV] END C=6287.039489427172, gamma=0.3504567255332862, kernel=linear; total time=   9.8s\n",
      "[CV] END C=61217.04421344494, gamma=1.6279689407405564, kernel=rbf; total time=  45.0s\n",
      "[CV] END C=61217.04421344494, gamma=1.6279689407405564, kernel=rbf; total time=  52.2s\n",
      "[CV] END C=61217.04421344494, gamma=1.6279689407405564, kernel=rbf; total time=  37.6s\n",
      "[CV] END C=61217.04421344494, gamma=1.6279689407405564, kernel=rbf; total time=  39.0s\n",
      "[CV] END C=61217.04421344494, gamma=1.6279689407405564, kernel=rbf; total time=  46.8s\n",
      "[CV] END C=926.9787684096649, gamma=2.147979593060577, kernel=rbf; total time=  13.3s\n",
      "[CV] END C=926.9787684096649, gamma=2.147979593060577, kernel=rbf; total time=  13.3s\n",
      "[CV] END C=926.9787684096649, gamma=2.147979593060577, kernel=rbf; total time=  13.3s\n",
      "[CV] END C=926.9787684096649, gamma=2.147979593060577, kernel=rbf; total time=  13.3s\n",
      "[CV] END C=926.9787684096649, gamma=2.147979593060577, kernel=rbf; total time=  13.3s\n",
      "[CV] END C=33946.157064934, gamma=2.2642426492862313, kernel=linear; total time=  15.6s\n",
      "[CV] END C=33946.157064934, gamma=2.2642426492862313, kernel=linear; total time=  18.9s\n",
      "[CV] END C=33946.157064934, gamma=2.2642426492862313, kernel=linear; total time=  16.6s\n",
      "[CV] END C=33946.157064934, gamma=2.2642426492862313, kernel=linear; total time=  19.1s\n",
      "[CV] END C=33946.157064934, gamma=2.2642426492862313, kernel=linear; total time=  18.5s\n",
      "[CV] END C=84789.82947739525, gamma=0.3176359085304841, kernel=linear; total time=  28.3s\n",
      "[CV] END C=84789.82947739525, gamma=0.3176359085304841, kernel=linear; total time=  33.6s\n",
      "[CV] END C=84789.82947739525, gamma=0.3176359085304841, kernel=linear; total time=  29.7s\n",
      "[CV] END C=84789.82947739525, gamma=0.3176359085304841, kernel=linear; total time=  32.0s\n",
      "[CV] END C=84789.82947739525, gamma=0.3176359085304841, kernel=linear; total time=  33.6s\n"
     ]
    },
    {
     "data": {
      "text/plain": [
       "RandomizedSearchCV(cv=5, estimator=SVR(), n_iter=50,\n",
       "                   param_distributions={'C': <scipy.stats._distn_infrastructure.rv_frozen object at 0x7f7071284860>,\n",
       "                                        'gamma': <scipy.stats._distn_infrastructure.rv_frozen object at 0x7f70712840b8>,\n",
       "                                        'kernel': ['linear', 'rbf']},\n",
       "                   random_state=42, scoring='neg_mean_squared_error',\n",
       "                   verbose=2)"
      ]
     },
     "execution_count": 119,
     "metadata": {},
     "output_type": "execute_result"
    }
   ],
   "source": [
    "from sklearn.model_selection import RandomizedSearchCV\n",
    "from scipy.stats import expon, reciprocal\n",
    "\n",
    "# expon(), reciprocal()와 그외 다른 확률 분포 함수에 대해서는\n",
    "# https://docs.scipy.org/doc/scipy/reference/stats.html를 참고하세요.\n",
    "\n",
    "# 노트: kernel 매개변수가 \"linear\"일 때는 gamma가 무시됩니다.\n",
    "param_distribs = {\n",
    "        'kernel': ['linear', 'rbf'],\n",
    "        'C': reciprocal(20, 200000),\n",
    "        'gamma': expon(scale=1.0),\n",
    "    }\n",
    "\n",
    "svm_reg = SVR()\n",
    "rnd_search = RandomizedSearchCV(svm_reg, param_distributions=param_distribs,\n",
    "                                n_iter=50, cv=5, scoring='neg_mean_squared_error',\n",
    "                                verbose=2, random_state=42)\n",
    "rnd_search.fit(housing_prepared, housing_labels)"
   ]
  },
  {
   "cell_type": "markdown",
   "metadata": {},
   "source": [
    "최상 모델의 (5-폴드 교차 검증으로 평가한) 점수는 다음과 같습니다:"
   ]
  },
  {
   "cell_type": "code",
   "execution_count": 120,
   "metadata": {
    "execution": {
     "iopub.execute_input": "2021-11-03T05:54:17.034290Z",
     "iopub.status.busy": "2021-11-03T05:54:17.033700Z",
     "iopub.status.idle": "2021-11-03T05:54:17.036149Z",
     "shell.execute_reply": "2021-11-03T05:54:17.036584Z"
    }
   },
   "outputs": [
    {
     "data": {
      "text/plain": [
       "54751.69009488048"
      ]
     },
     "execution_count": 120,
     "metadata": {},
     "output_type": "execute_result"
    }
   ],
   "source": [
    "negative_mse = rnd_search.best_score_\n",
    "rmse = np.sqrt(-negative_mse)\n",
    "rmse"
   ]
  },
  {
   "cell_type": "markdown",
   "metadata": {},
   "source": [
    "이제 `RandomForestRegressor`의 성능에 훨씬 가까워졌습니다(하지만 아직 차이가 납니다). 최상의 하이퍼파라미터를 확인해 보겠습니다:"
   ]
  },
  {
   "cell_type": "code",
   "execution_count": 121,
   "metadata": {
    "execution": {
     "iopub.execute_input": "2021-11-03T05:54:17.039836Z",
     "iopub.status.busy": "2021-11-03T05:54:17.039239Z",
     "iopub.status.idle": "2021-11-03T05:54:17.043409Z",
     "shell.execute_reply": "2021-11-03T05:54:17.043827Z"
    }
   },
   "outputs": [
    {
     "data": {
      "text/plain": [
       "{'C': 157055.10989448498, 'gamma': 0.26497040005002437, 'kernel': 'rbf'}"
      ]
     },
     "execution_count": 121,
     "metadata": {},
     "output_type": "execute_result"
    }
   ],
   "source": [
    "rnd_search.best_params_"
   ]
  },
  {
   "cell_type": "markdown",
   "metadata": {},
   "source": [
    "이번에는 RBF 커널에 대해 최적의 하이퍼파라미터 조합을 찾았습니다. 보통 랜덤서치가 같은 시간안에 그리드서치보다 더 좋은 하이퍼파라미터를 찾습니다."
   ]
  },
  {
   "cell_type": "markdown",
   "metadata": {},
   "source": [
    "여기서 사용된 `scale=1.0`인 지수 분포를 살펴보겠습니다. 일부 샘플은 1.0보다 아주 크거나 작습니다. 하지만 로그 분포를 보면 대부분의 값이 exp(-2)와 exp(+2), 즉 0.1과 7.4 사이에 집중되어 있음을 알 수 있습니다."
   ]
  },
  {
   "cell_type": "code",
   "execution_count": 122,
   "metadata": {
    "execution": {
     "iopub.execute_input": "2021-11-03T05:54:17.049802Z",
     "iopub.status.busy": "2021-11-03T05:54:17.049168Z",
     "iopub.status.idle": "2021-11-03T05:54:17.375619Z",
     "shell.execute_reply": "2021-11-03T05:54:17.376051Z"
    }
   },
   "outputs": [
    {
     "data": {
      "image/png": "[encoded data removed]",
      "text/plain": [
       "<Figure size 720x288 with 2 Axes>"
      ]
     },
     "metadata": {
      "needs_background": "light"
     },
     "output_type": "display_data"
    }
   ],
   "source": [
    "expon_distrib = expon(scale=1.)\n",
    "samples = expon_distrib.rvs(10000, random_state=42)\n",
    "plt.figure(figsize=(10, 4))\n",
    "plt.subplot(121)\n",
    "plt.title(\"Exponential distribution (scale=1.0)\")\n",
    "plt.hist(samples, bins=50)\n",
    "plt.subplot(122)\n",
    "plt.title(\"Log of this distribution\")\n",
    "plt.hist(np.log(samples), bins=50)\n",
    "plt.show()"
   ]
  },
  {
   "cell_type": "markdown",
   "metadata": {},
   "source": [
    "`C`에 사용된 분포는 매우 다릅니다. 주어진 범위안에서 균등 분포로 샘플링됩니다. 그래서 오른쪽 로그 분포가 거의 일정하게 나타납니다. 이런 분포는 원하는 스케일이 정확이 무엇인지 모를 때 사용하면 좋습니다:"
   ]
  },
  {
   "cell_type": "code",
   "execution_count": 123,
   "metadata": {
    "execution": {
     "iopub.execute_input": "2021-11-03T05:54:17.381839Z",
     "iopub.status.busy": "2021-11-03T05:54:17.378566Z",
     "iopub.status.idle": "2021-11-03T05:54:17.787344Z",
     "shell.execute_reply": "2021-11-03T05:54:17.787790Z"
    }
   },
   "outputs": [
    {
     "data": {
      "image/png": "[encoded data removed]",
      "text/plain": [
       "<Figure size 720x288 with 2 Axes>"
      ]
     },
     "metadata": {
      "needs_background": "light"
     },
     "output_type": "display_data"
    }
   ],
   "source": [
    "reciprocal_distrib = reciprocal(20, 200000)\n",
    "samples = reciprocal_distrib.rvs(10000, random_state=42)\n",
    "plt.figure(figsize=(10, 4))\n",
    "plt.subplot(121)\n",
    "plt.title(\"Reciprocal distribution (scale=1.0)\")\n",
    "plt.hist(samples, bins=50)\n",
    "plt.subplot(122)\n",
    "plt.title(\"Log of this distribution\")\n",
    "plt.hist(np.log(samples), bins=50)\n",
    "plt.show()"
   ]
  },
  {
   "cell_type": "markdown",
   "metadata": {},
   "source": [
    "`reciprocal()` 함수는 하이퍼파라미터의 스케일에 대해 전혀 감을 잡을 수 없을 때 사용합니다(오른쪽 그래프에서 볼 수 있듯이 주어진 범위안에서 모든 값이 균등합니다). 반면 지수 분포는 하이퍼파라미터의 스케일을 (어느정도) 알고 있을 때 사용하는 것이 좋습니다."
   ]
  }
 ],
 "metadata": {
  "kernelspec": {
   "display_name": "Python 3 (ipykernel)",
   "language": "python",
   "name": "python3"
  },
  "language_info": {
   "codemirror_mode": {
    "name": "ipython",
    "version": 3
   },
   "file_extension": ".py",
   "mimetype": "text/x-python",
   "name": "python",
   "nbconvert_exporter": "python",
   "pygments_lexer": "ipython3",
   "version": "3.8.12"
  },
  "nav_menu": {
   "height": "279px",
   "width": "309px"
  },
  "toc": {
   "nav_menu": {},
   "number_sections": true,
   "sideBar": true,
   "skip_h1_title": false,
   "toc_cell": false,
   "toc_position": {},
   "toc_section_display": "block",
   "toc_window_display": false
  }
 },
 "nbformat": 4,
 "nbformat_minor": 1
}
