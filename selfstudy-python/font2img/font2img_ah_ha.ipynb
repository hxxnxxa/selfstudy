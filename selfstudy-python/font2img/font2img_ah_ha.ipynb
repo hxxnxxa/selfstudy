{
 "cells": [
  {
   "cell_type": "markdown",
   "id": "ae266291",
   "metadata": {},
   "source": [
    "# 1. 라이브러리 임포트"
   ]
  },
  {
   "cell_type": "code",
   "execution_count": 1,
   "id": "62591664",
   "metadata": {},
   "outputs": [],
   "source": [
    "import sys\n",
    "import os\n",
    "import numpy as np\n",
    "import matplotlib.pyplot as plt\n",
    "from PIL import Image, ImageFont, ImageDraw\n",
    "from numpy.core.arrayprint import TimedeltaFormat\n",
    "from tqdm import tqdm\n",
    "import IPython.display as display\n",
    "from matplotlib import font_manager"
   ]
  },
  {
   "cell_type": "markdown",
   "id": "e4f7fee0",
   "metadata": {},
   "source": [
    "- <b>sys :</b> 파이썬 인터프리터를 제어할 수 있는 라이브러리\n",
    "- <b>os :</b> 운영체제에서 제공되는 여러 기능을 파이썬에서 수행할 수 있게 해주는 라이브러리\n",
    "- <b>numpy :</b> 배열 연산 라이브러리\n",
    "- <b>matplotlib.pyplot :</b> 그래프 그리는 라이브러리\n",
    "- <b>IPython.display :</b> Jupyter notebook에서 이미지를 표시해주는 라이브러리\n",
    "- <b>Image :</b> Image를 열기, 닫기, 저장할 수 있게 해주는 라이브러리\n",
    "- <b>ImageFont :</b> Image 위에 글씨크기와 폰트 스타일을 변경해주는 라이브러리\n",
    "- <b>ImageDraw :</b> Image 위에 사각형, 원 등을 그릴 수 있게 해주는 라이브러리\n",
    "- <b>TimedeltaFormat :</b> 확인 필요 \n",
    "- <b>tqdm :</b> 진행 상황을 progress bar 형식으로 보여주는 라이브러리\n",
    "- <b>font_manager :</b> matplotlib 를 이용해 그래프 그릴 때 한글 깨짐 현상을 방지해주는 라이브러리"
   ]
  },
  {
   "cell_type": "markdown",
   "id": "241e36c7",
   "metadata": {},
   "source": [
    "# 2. 캔버스 크기 지정"
   ]
  },
  {
   "cell_type": "code",
   "execution_count": 2,
   "id": "5754b67d",
   "metadata": {},
   "outputs": [],
   "source": [
    "w, h = (256,256)"
   ]
  },
  {
   "cell_type": "markdown",
   "id": "940a8f45",
   "metadata": {},
   "source": [
    "# 3. 한글 유니코드 값 가져오기"
   ]
  },
  {
   "cell_type": "code",
   "execution_count": 3,
   "id": "4bc6dad2",
   "metadata": {},
   "outputs": [],
   "source": [
    "sylla = [\"C544\", \"C0AC\", \"C790\", \"CC28\", \"CE74\", \"D0C0\", \"D558\"]"
   ]
  },
  {
   "cell_type": "markdown",
   "id": "3bf31789",
   "metadata": {},
   "source": [
    "- C544 : 아\n",
    "- C0AC : 사\n",
    "- C790 : 자\n",
    "- CC28 : 차\n",
    "- CE74 : 카\n",
    "- D0C0 : 타\n",
    "- D558 : 하"
   ]
  },
  {
   "cell_type": "code",
   "execution_count": 5,
   "id": "ab391a07",
   "metadata": {},
   "outputs": [
    {
     "name": "stdout",
     "output_type": "stream",
     "text": [
      "아 하\n"
     ]
    }
   ],
   "source": [
    "print(chr(int('C544',16)), chr(int('D558',16)))"
   ]
  },
  {
   "cell_type": "code",
   "execution_count": 6,
   "id": "bc0268d3",
   "metadata": {},
   "outputs": [
    {
     "name": "stdout",
     "output_type": "stream",
     "text": [
      "아\n",
      "사\n",
      "자\n",
      "차\n",
      "카\n",
      "타\n",
      "하\n"
     ]
    }
   ],
   "source": [
    "for i in sylla :\n",
    "    print(chr(int(i, 16)))"
   ]
  },
  {
   "cell_type": "markdown",
   "id": "ce5ec718",
   "metadata": {},
   "source": [
    "# 4. 폰트 목록 불러오기"
   ]
  },
  {
   "cell_type": "code",
   "execution_count": 23,
   "id": "da00c380",
   "metadata": {},
   "outputs": [],
   "source": [
    "font_path = \"D:/workspace/SF-GNN/fonts/5_ㅈ골격\"\n",
    "fonts = os.listdir(\"D:/workspace/SF-GNN/fonts/5_ㅈ골격\")"
   ]
  },
  {
   "cell_type": "code",
   "execution_count": 21,
   "id": "985fc537",
   "metadata": {},
   "outputs": [
    {
     "name": "stdout",
     "output_type": "stream",
     "text": [
      "font_path :  D:/workspace/SF-GNN/fonts/4_ㅇ부리\n",
      "fonts :  ['Cafe24Oneprettynight.ttf', 'MapoFlowerIsland.ttf', 'MapoGoldenPier.ttf', 'NanumMyeongjo.ttf', 'NanumMyeongjoBold.ttf', 'NanumMyeongjoExtraBold.ttf', 'NationalMuseumandCulturalFoundationClassicB.ttf', 'NationalMuseumandCulturalFoundationClassicL.ttf', 'NationalMuseumandCulturalFoundationClassicM.ttf']\n"
     ]
    }
   ],
   "source": [
    "print(\"font_path : \",font_path)\n",
    "print(\"fonts : \", fonts)"
   ]
  },
  {
   "cell_type": "code",
   "execution_count": 9,
   "id": "edb991a9",
   "metadata": {},
   "outputs": [],
   "source": [
    "sylla = np.array(sylla)"
   ]
  },
  {
   "cell_type": "markdown",
   "id": "09a5c91f",
   "metadata": {},
   "source": [
    "- sylla[0] : AD81, 궁\n",
    "- sylla[1] : AF43, 꽃\n",
    "- sylla[2] : B2C8, 니\n",
    "- sylla[3] : B2E4, 다\n",
    "- sylla[4] : BB34, 무\n",
    "- sylla[5] : C2B5, 습\n",
    "- sylla[6] : C5C8, 었\n",
    "- sylla[7] : C774, 이\n",
    "- sylla[8] : C9DD, 짝\n",
    "- sylla[9] : D53C, 피\n",
    "- sylla[10] : D654, 화\n",
    "- sylla[11] : D65C, 활"
   ]
  },
  {
   "cell_type": "markdown",
   "id": "7be8ade1",
   "metadata": {},
   "source": [
    "### sylla 데이터 길이 및 모양 확인"
   ]
  },
  {
   "cell_type": "code",
   "execution_count": 10,
   "id": "7dcec4d0",
   "metadata": {},
   "outputs": [
    {
     "data": {
      "text/plain": [
       "7"
      ]
     },
     "execution_count": 10,
     "metadata": {},
     "output_type": "execute_result"
    }
   ],
   "source": [
    "len(sylla)"
   ]
  },
  {
   "cell_type": "code",
   "execution_count": 11,
   "id": "f45c1c47",
   "metadata": {},
   "outputs": [
    {
     "data": {
      "text/plain": [
       "(7,)"
      ]
     },
     "execution_count": 11,
     "metadata": {},
     "output_type": "execute_result"
    }
   ],
   "source": [
    "sylla.shape"
   ]
  },
  {
   "cell_type": "code",
   "execution_count": 12,
   "id": "cdccc794",
   "metadata": {},
   "outputs": [],
   "source": [
    "start = \"C544\"\n",
    "end = \"D558\""
   ]
  },
  {
   "cell_type": "code",
   "execution_count": 13,
   "id": "d19985c7",
   "metadata": {},
   "outputs": [],
   "source": [
    "s = np.where(start == sylla)[0][0]\n",
    "e = np.where(end == sylla)[0][0]"
   ]
  },
  {
   "cell_type": "markdown",
   "id": "295944dc",
   "metadata": {},
   "source": [
    "- np.where : 조건을 만족하는 배열의 인덱스를 반환해주는 메서드\n",
    "- start와 sylla가 같은 경우, 해당하는 인덱스를 s 변수에 저장, s값은 0이 된다.\n",
    "- end와 sylla가 같은 경우, 해당하는 인덱스를 e 변수에 저장, e값은 11이 된다."
   ]
  },
  {
   "cell_type": "code",
   "execution_count": 14,
   "id": "54f9e6ed",
   "metadata": {},
   "outputs": [],
   "source": [
    "sylla = sylla[s : e + 1]"
   ]
  },
  {
   "cell_type": "markdown",
   "id": "bd099809",
   "metadata": {},
   "source": [
    "- s부터 e+1 번째 요소 모두 sylla 변수에 저장한다."
   ]
  },
  {
   "cell_type": "code",
   "execution_count": 16,
   "id": "749827fb",
   "metadata": {},
   "outputs": [
    {
     "data": {
      "text/plain": [
       "'D:\\\\workspace\\\\font_sslab\\\\font2img'"
      ]
     },
     "execution_count": 16,
     "metadata": {},
     "output_type": "execute_result"
    }
   ],
   "source": [
    "%pwd"
   ]
  },
  {
   "cell_type": "code",
   "execution_count": 24,
   "id": "69faa00b",
   "metadata": {},
   "outputs": [
    {
     "name": "stderr",
     "output_type": "stream",
     "text": [
      "100%|████████████████████████████████████████████████████████████████████████████████████████████████████████████████████████████████████████| 7/7 [00:08<00:00,  1.26s/it]\n"
     ]
    }
   ],
   "source": [
    "for uni in tqdm(sylla):\n",
    "    \n",
    "    unicodeChars = chr(int(uni, 16))\n",
    "    path = \"D:/workspace/SF-GNN/unusualFontInitial/3_ㅈ골격/\" +  unicodeChars\n",
    "    os.makedirs(path, exist_ok = True)\n",
    "        \n",
    "    for ttf in fonts:\n",
    "        \n",
    "        font = ImageFont.truetype(font = font_path + \"/\" + ttf, size = 200)\n",
    "        x, y = font.getsize(unicodeChars)\n",
    "        \n",
    "        theImage = Image.new('RGB', (256, 256), color='white')\n",
    "        theDrawPad = ImageDraw.Draw(theImage)\n",
    "        theDrawPad.text(((w-x)/2, (h-y)/2), unicodeChars[0], font=font, fill='black' )\n",
    "        \n",
    "        msg = path + \"/\" + ttf[:-4] + \"_\" + unicodeChars\n",
    "        \n",
    "        theImage.save('{}.png'.format(msg))"
   ]
  },
  {
   "cell_type": "code",
   "execution_count": 34,
   "id": "f69e39f8",
   "metadata": {},
   "outputs": [
    {
     "name": "stdout",
     "output_type": "stream",
     "text": [
      "x :  90 y :  95\n",
      "x :  90 y :  95\n",
      "x :  90 y :  95\n",
      "x :  90 y :  95\n",
      "x :  90 y :  95\n",
      "x :  90 y :  95\n",
      "x :  90 y :  95\n",
      "x :  90 y :  95\n",
      "x :  90 y :  95\n",
      "x :  90 y :  95\n",
      "x :  90 y :  95\n",
      "x :  90 y :  95\n"
     ]
    }
   ],
   "source": [
    "for i in sylla :\n",
    "    print(\"x : \",x,\"y : \",y)"
   ]
  },
  {
   "cell_type": "code",
   "execution_count": 19,
   "id": "dee3c387",
   "metadata": {},
   "outputs": [
    {
     "name": "stdout",
     "output_type": "stream",
     "text": [
      "D:\\workspace\\SF-GNN\\unusualFontInitial\\1_ㅅ장식\\사\\Batang_사.png\n",
      "(256, 256)\n",
      "D:\\workspace\\SF-GNN\\unusualFontInitial\\1_ㅅ장식\\사\\HS봄바람체2.0_사.png\n",
      "(256, 256)\n",
      "D:\\workspace\\SF-GNN\\unusualFontInitial\\1_ㅅ장식\\사\\JejuMyeongjo_사.png\n",
      "(256, 256)\n",
      "D:\\workspace\\SF-GNN\\unusualFontInitial\\1_ㅅ장식\\사\\tway_sky_사.png\n",
      "(256, 256)\n",
      "D:\\workspace\\SF-GNN\\unusualFontInitial\\1_ㅅ장식\\사\\국립박물관문화재단클래식B_사.png\n",
      "(256, 256)\n",
      "D:\\workspace\\SF-GNN\\unusualFontInitial\\1_ㅅ장식\\사\\국립박물관문화재단클래식L_사.png\n",
      "(256, 256)\n",
      "D:\\workspace\\SF-GNN\\unusualFontInitial\\1_ㅅ장식\\사\\국립박물관문화재단클래식M_사.png\n",
      "(256, 256)\n",
      "D:\\workspace\\SF-GNN\\unusualFontInitial\\1_ㅅ장식\\사\\서울한강 장체BL_사.png\n",
      "(256, 256)\n",
      "D:\\workspace\\SF-GNN\\unusualFontInitial\\1_ㅅ장식\\사\\서울한강 장체B_사.png\n",
      "(256, 256)\n",
      "D:\\workspace\\SF-GNN\\unusualFontInitial\\1_ㅅ장식\\사\\서울한강 장체EB_사.png\n",
      "(256, 256)\n",
      "D:\\workspace\\SF-GNN\\unusualFontInitial\\1_ㅅ장식\\사\\서울한강 장체L_사.png\n",
      "(256, 256)\n",
      "D:\\workspace\\SF-GNN\\unusualFontInitial\\1_ㅅ장식\\사\\서울한강 장체M_사.png\n",
      "(256, 256)\n",
      "D:\\workspace\\SF-GNN\\unusualFontInitial\\1_ㅅ장식\\아\\Batang_아.png\n",
      "(256, 256)\n",
      "D:\\workspace\\SF-GNN\\unusualFontInitial\\1_ㅅ장식\\아\\HS봄바람체2.0_아.png\n",
      "(256, 256)\n",
      "D:\\workspace\\SF-GNN\\unusualFontInitial\\1_ㅅ장식\\아\\JejuMyeongjo_아.png\n",
      "(256, 256)\n",
      "D:\\workspace\\SF-GNN\\unusualFontInitial\\1_ㅅ장식\\아\\tway_sky_아.png\n",
      "(256, 256)\n",
      "D:\\workspace\\SF-GNN\\unusualFontInitial\\1_ㅅ장식\\아\\국립박물관문화재단클래식B_아.png\n",
      "(256, 256)\n",
      "D:\\workspace\\SF-GNN\\unusualFontInitial\\1_ㅅ장식\\아\\국립박물관문화재단클래식L_아.png\n",
      "(256, 256)\n",
      "D:\\workspace\\SF-GNN\\unusualFontInitial\\1_ㅅ장식\\아\\국립박물관문화재단클래식M_아.png\n",
      "(256, 256)\n",
      "D:\\workspace\\SF-GNN\\unusualFontInitial\\1_ㅅ장식\\아\\서울한강 장체BL_아.png\n",
      "(256, 256)\n",
      "D:\\workspace\\SF-GNN\\unusualFontInitial\\1_ㅅ장식\\아\\서울한강 장체B_아.png\n",
      "(256, 256)\n",
      "D:\\workspace\\SF-GNN\\unusualFontInitial\\1_ㅅ장식\\아\\서울한강 장체EB_아.png\n",
      "(256, 256)\n",
      "D:\\workspace\\SF-GNN\\unusualFontInitial\\1_ㅅ장식\\아\\서울한강 장체L_아.png\n",
      "(256, 256)\n",
      "D:\\workspace\\SF-GNN\\unusualFontInitial\\1_ㅅ장식\\아\\서울한강 장체M_아.png\n",
      "(256, 256)\n",
      "D:\\workspace\\SF-GNN\\unusualFontInitial\\1_ㅅ장식\\자\\Batang_자.png\n",
      "(256, 256)\n",
      "D:\\workspace\\SF-GNN\\unusualFontInitial\\1_ㅅ장식\\자\\HS봄바람체2.0_자.png\n",
      "(256, 256)\n",
      "D:\\workspace\\SF-GNN\\unusualFontInitial\\1_ㅅ장식\\자\\JejuMyeongjo_자.png\n",
      "(256, 256)\n",
      "D:\\workspace\\SF-GNN\\unusualFontInitial\\1_ㅅ장식\\자\\tway_sky_자.png\n",
      "(256, 256)\n",
      "D:\\workspace\\SF-GNN\\unusualFontInitial\\1_ㅅ장식\\자\\국립박물관문화재단클래식B_자.png\n",
      "(256, 256)\n",
      "D:\\workspace\\SF-GNN\\unusualFontInitial\\1_ㅅ장식\\자\\국립박물관문화재단클래식L_자.png\n",
      "(256, 256)\n",
      "D:\\workspace\\SF-GNN\\unusualFontInitial\\1_ㅅ장식\\자\\국립박물관문화재단클래식M_자.png\n",
      "(256, 256)\n",
      "D:\\workspace\\SF-GNN\\unusualFontInitial\\1_ㅅ장식\\자\\서울한강 장체BL_자.png\n",
      "(256, 256)\n",
      "D:\\workspace\\SF-GNN\\unusualFontInitial\\1_ㅅ장식\\자\\서울한강 장체B_자.png\n",
      "(256, 256)\n",
      "D:\\workspace\\SF-GNN\\unusualFontInitial\\1_ㅅ장식\\자\\서울한강 장체EB_자.png\n",
      "(256, 256)\n",
      "D:\\workspace\\SF-GNN\\unusualFontInitial\\1_ㅅ장식\\자\\서울한강 장체L_자.png\n",
      "(256, 256)\n",
      "D:\\workspace\\SF-GNN\\unusualFontInitial\\1_ㅅ장식\\자\\서울한강 장체M_자.png\n",
      "(256, 256)\n",
      "D:\\workspace\\SF-GNN\\unusualFontInitial\\1_ㅅ장식\\차\\Batang_차.png\n",
      "(256, 256)\n",
      "D:\\workspace\\SF-GNN\\unusualFontInitial\\1_ㅅ장식\\차\\HS봄바람체2.0_차.png\n",
      "(256, 256)\n",
      "D:\\workspace\\SF-GNN\\unusualFontInitial\\1_ㅅ장식\\차\\JejuMyeongjo_차.png\n",
      "(256, 256)\n",
      "D:\\workspace\\SF-GNN\\unusualFontInitial\\1_ㅅ장식\\차\\tway_sky_차.png\n",
      "(256, 256)\n",
      "D:\\workspace\\SF-GNN\\unusualFontInitial\\1_ㅅ장식\\차\\국립박물관문화재단클래식B_차.png\n",
      "(256, 256)\n",
      "D:\\workspace\\SF-GNN\\unusualFontInitial\\1_ㅅ장식\\차\\국립박물관문화재단클래식L_차.png\n",
      "(256, 256)\n",
      "D:\\workspace\\SF-GNN\\unusualFontInitial\\1_ㅅ장식\\차\\국립박물관문화재단클래식M_차.png\n",
      "(256, 256)\n",
      "D:\\workspace\\SF-GNN\\unusualFontInitial\\1_ㅅ장식\\차\\서울한강 장체BL_차.png\n",
      "(256, 256)\n",
      "D:\\workspace\\SF-GNN\\unusualFontInitial\\1_ㅅ장식\\차\\서울한강 장체B_차.png\n",
      "(256, 256)\n",
      "D:\\workspace\\SF-GNN\\unusualFontInitial\\1_ㅅ장식\\차\\서울한강 장체EB_차.png\n",
      "(256, 256)\n",
      "D:\\workspace\\SF-GNN\\unusualFontInitial\\1_ㅅ장식\\차\\서울한강 장체L_차.png\n",
      "(256, 256)\n",
      "D:\\workspace\\SF-GNN\\unusualFontInitial\\1_ㅅ장식\\차\\서울한강 장체M_차.png\n",
      "(256, 256)\n",
      "D:\\workspace\\SF-GNN\\unusualFontInitial\\1_ㅅ장식\\카\\Batang_카.png\n",
      "(256, 256)\n",
      "D:\\workspace\\SF-GNN\\unusualFontInitial\\1_ㅅ장식\\카\\HS봄바람체2.0_카.png\n",
      "(256, 256)\n",
      "D:\\workspace\\SF-GNN\\unusualFontInitial\\1_ㅅ장식\\카\\JejuMyeongjo_카.png\n",
      "(256, 256)\n",
      "D:\\workspace\\SF-GNN\\unusualFontInitial\\1_ㅅ장식\\카\\tway_sky_카.png\n",
      "(256, 256)\n",
      "D:\\workspace\\SF-GNN\\unusualFontInitial\\1_ㅅ장식\\카\\국립박물관문화재단클래식B_카.png\n",
      "(256, 256)\n",
      "D:\\workspace\\SF-GNN\\unusualFontInitial\\1_ㅅ장식\\카\\국립박물관문화재단클래식L_카.png\n",
      "(256, 256)\n",
      "D:\\workspace\\SF-GNN\\unusualFontInitial\\1_ㅅ장식\\카\\국립박물관문화재단클래식M_카.png\n",
      "(256, 256)\n",
      "D:\\workspace\\SF-GNN\\unusualFontInitial\\1_ㅅ장식\\카\\서울한강 장체BL_카.png\n",
      "(256, 256)\n",
      "D:\\workspace\\SF-GNN\\unusualFontInitial\\1_ㅅ장식\\카\\서울한강 장체B_카.png\n",
      "(256, 256)\n",
      "D:\\workspace\\SF-GNN\\unusualFontInitial\\1_ㅅ장식\\카\\서울한강 장체EB_카.png\n",
      "(256, 256)\n",
      "D:\\workspace\\SF-GNN\\unusualFontInitial\\1_ㅅ장식\\카\\서울한강 장체L_카.png\n",
      "(256, 256)\n",
      "D:\\workspace\\SF-GNN\\unusualFontInitial\\1_ㅅ장식\\카\\서울한강 장체M_카.png\n",
      "(256, 256)\n",
      "D:\\workspace\\SF-GNN\\unusualFontInitial\\1_ㅅ장식\\타\\Batang_타.png\n",
      "(256, 256)\n",
      "D:\\workspace\\SF-GNN\\unusualFontInitial\\1_ㅅ장식\\타\\HS봄바람체2.0_타.png\n",
      "(256, 256)\n",
      "D:\\workspace\\SF-GNN\\unusualFontInitial\\1_ㅅ장식\\타\\JejuMyeongjo_타.png\n",
      "(256, 256)\n",
      "D:\\workspace\\SF-GNN\\unusualFontInitial\\1_ㅅ장식\\타\\tway_sky_타.png\n",
      "(256, 256)\n",
      "D:\\workspace\\SF-GNN\\unusualFontInitial\\1_ㅅ장식\\타\\국립박물관문화재단클래식B_타.png\n",
      "(256, 256)\n",
      "D:\\workspace\\SF-GNN\\unusualFontInitial\\1_ㅅ장식\\타\\국립박물관문화재단클래식L_타.png\n",
      "(256, 256)\n",
      "D:\\workspace\\SF-GNN\\unusualFontInitial\\1_ㅅ장식\\타\\국립박물관문화재단클래식M_타.png\n",
      "(256, 256)\n",
      "D:\\workspace\\SF-GNN\\unusualFontInitial\\1_ㅅ장식\\타\\서울한강 장체BL_타.png\n",
      "(256, 256)\n",
      "D:\\workspace\\SF-GNN\\unusualFontInitial\\1_ㅅ장식\\타\\서울한강 장체B_타.png\n",
      "(256, 256)\n",
      "D:\\workspace\\SF-GNN\\unusualFontInitial\\1_ㅅ장식\\타\\서울한강 장체EB_타.png\n",
      "(256, 256)\n",
      "D:\\workspace\\SF-GNN\\unusualFontInitial\\1_ㅅ장식\\타\\서울한강 장체L_타.png\n",
      "(256, 256)\n",
      "D:\\workspace\\SF-GNN\\unusualFontInitial\\1_ㅅ장식\\타\\서울한강 장체M_타.png\n",
      "(256, 256)\n",
      "D:\\workspace\\SF-GNN\\unusualFontInitial\\1_ㅅ장식\\하\\Batang_하.png\n",
      "(256, 256)\n",
      "D:\\workspace\\SF-GNN\\unusualFontInitial\\1_ㅅ장식\\하\\HS봄바람체2.0_하.png\n",
      "(256, 256)\n",
      "D:\\workspace\\SF-GNN\\unusualFontInitial\\1_ㅅ장식\\하\\JejuMyeongjo_하.png\n",
      "(256, 256)\n",
      "D:\\workspace\\SF-GNN\\unusualFontInitial\\1_ㅅ장식\\하\\tway_sky_하.png\n",
      "(256, 256)\n",
      "D:\\workspace\\SF-GNN\\unusualFontInitial\\1_ㅅ장식\\하\\국립박물관문화재단클래식B_하.png\n",
      "(256, 256)\n",
      "D:\\workspace\\SF-GNN\\unusualFontInitial\\1_ㅅ장식\\하\\국립박물관문화재단클래식L_하.png\n",
      "(256, 256)\n",
      "D:\\workspace\\SF-GNN\\unusualFontInitial\\1_ㅅ장식\\하\\국립박물관문화재단클래식M_하.png\n",
      "(256, 256)\n",
      "D:\\workspace\\SF-GNN\\unusualFontInitial\\1_ㅅ장식\\하\\서울한강 장체BL_하.png\n",
      "(256, 256)\n",
      "D:\\workspace\\SF-GNN\\unusualFontInitial\\1_ㅅ장식\\하\\서울한강 장체B_하.png\n",
      "(256, 256)\n",
      "D:\\workspace\\SF-GNN\\unusualFontInitial\\1_ㅅ장식\\하\\서울한강 장체EB_하.png\n",
      "(256, 256)\n",
      "D:\\workspace\\SF-GNN\\unusualFontInitial\\1_ㅅ장식\\하\\서울한강 장체L_하.png\n",
      "(256, 256)\n",
      "D:\\workspace\\SF-GNN\\unusualFontInitial\\1_ㅅ장식\\하\\서울한강 장체M_하.png\n",
      "(256, 256)\n"
     ]
    }
   ],
   "source": [
    "from PIL import Image\n",
    "import os.path\n",
    "\n",
    "targetdir = r\"D:\\workspace\\SF-GNN\\unusualFontInitial\\1_ㅅ장식\"\n",
    "\n",
    "format = ['.jpg','.png','.jpeg','.bmp','.JPG','.PNG','.JPEG','.BMP']\n",
    "\n",
    "for (path,dirs,files) in os.walk(targetdir):\n",
    "    for file in files:\n",
    "        if file.endswith(tuple(format)):\n",
    "            image = Image.open(path+\"\\\\\"+file)\n",
    "            print(image.filename)\n",
    "            print(image.size)"
   ]
  },
  {
   "cell_type": "code",
   "execution_count": null,
   "id": "e69de37f",
   "metadata": {},
   "outputs": [],
   "source": []
  }
 ],
 "metadata": {
  "kernelspec": {
   "display_name": "python3.7 (yolo-v5-pytorch)",
   "language": "python",
   "name": "yolo-v5-pytorch"
  },
  "language_info": {
   "codemirror_mode": {
    "name": "ipython",
    "version": 3
   },
   "file_extension": ".py",
   "mimetype": "text/x-python",
   "name": "python",
   "nbconvert_exporter": "python",
   "pygments_lexer": "ipython3",
   "version": "3.7.11"
  }
 },
 "nbformat": 4,
 "nbformat_minor": 5
}
