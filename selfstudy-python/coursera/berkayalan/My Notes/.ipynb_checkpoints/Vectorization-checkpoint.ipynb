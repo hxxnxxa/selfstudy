{
 "cells": [
  {
   "cell_type": "code",
   "execution_count": 1,
   "metadata": {},
   "outputs": [
    {
     "name": "stdout",
     "output_type": "stream",
     "text": [
      "[1 2 3 4]\n"
     ]
    }
   ],
   "source": [
    "import numpy as np\n",
    "\n",
    "a= np.array([1,2,3,4])\n",
    "\n",
    "print(a)"
   ]
  },
  {
   "cell_type": "code",
   "execution_count": 2,
   "metadata": {},
   "outputs": [],
   "source": [
    "import time\n",
    "\n",
    "weights = np.random.random(1000000)\n",
    "\n",
    "inputs = np.random.random(1000000)"
   ]
  },
  {
   "cell_type": "code",
   "execution_count": 3,
   "metadata": {},
   "outputs": [
    {
     "name": "stdout",
     "output_type": "stream",
     "text": [
      "(1000000,)\n",
      "(1000000,)\n"
     ]
    }
   ],
   "source": [
    "print(weights.shape)\n",
    "print(inputs.shape)"
   ]
  },
  {
   "cell_type": "markdown",
   "metadata": {},
   "source": [
    "## Vectorized Version"
   ]
  },
  {
   "cell_type": "code",
   "execution_count": 4,
   "metadata": {},
   "outputs": [
    {
     "name": "stdout",
     "output_type": "stream",
     "text": [
      "Vectorized Version: 1.6379356384277344ms\n",
      "Z= 250243.98856325095\n"
     ]
    }
   ],
   "source": [
    "tic = time.time()\n",
    "\n",
    "z= np.dot(weights,inputs)\n",
    "\n",
    "toc= time.time()\n",
    "\n",
    "print(\"Vectorized Version: \"+ str(1000*(toc-tic))+\"ms\")\n",
    "\n",
    "print(\"Z= \"+str(z))"
   ]
  },
  {
   "cell_type": "markdown",
   "metadata": {},
   "source": [
    "## Non-Vectorized Version"
   ]
  },
  {
   "cell_type": "code",
   "execution_count": 5,
   "metadata": {},
   "outputs": [
    {
     "name": "stdout",
     "output_type": "stream",
     "text": [
      "Non-Vectorized Version: 893.733024597168ms\n",
      "Z= 250243.98856324542\n"
     ]
    }
   ],
   "source": [
    "z=0\n",
    "\n",
    "tic = time.time()\n",
    "\n",
    "for i in range(len(inputs)):\n",
    "    z += weights[i]*inputs[i]\n",
    "\n",
    "toc= time.time()\n",
    "\n",
    "print(\"Non-Vectorized Version: \"+ str(1000*(toc-tic))+\"ms\")\n",
    "\n",
    "print(\"Z= \"+str(z))"
   ]
  },
  {
   "cell_type": "markdown",
   "metadata": {},
   "source": [
    "# Example"
   ]
  },
  {
   "cell_type": "code",
   "execution_count": 6,
   "metadata": {},
   "outputs": [
    {
     "data": {
      "text/plain": [
       "(6,)"
      ]
     },
     "execution_count": 6,
     "metadata": {},
     "output_type": "execute_result"
    }
   ],
   "source": [
    "v = np.array([2,4,6,8,9,10])\n",
    "v.shape"
   ]
  },
  {
   "cell_type": "markdown",
   "metadata": {},
   "source": [
    "We want u = e^v"
   ]
  },
  {
   "cell_type": "code",
   "execution_count": 7,
   "metadata": {},
   "outputs": [
    {
     "data": {
      "text/plain": [
       "6"
      ]
     },
     "execution_count": 7,
     "metadata": {},
     "output_type": "execute_result"
    }
   ],
   "source": [
    "len(v)"
   ]
  },
  {
   "cell_type": "markdown",
   "metadata": {},
   "source": [
    "## Non-vectorized"
   ]
  },
  {
   "cell_type": "code",
   "execution_count": 8,
   "metadata": {},
   "outputs": [
    {
     "name": "stdout",
     "output_type": "stream",
     "text": [
      "Non-Vectorized Version: 0.1430511474609375 ms\n",
      "[[7.38905610e+00]\n",
      " [5.45981500e+01]\n",
      " [4.03428793e+02]\n",
      " [2.98095799e+03]\n",
      " [8.10308393e+03]\n",
      " [2.20264658e+04]]\n"
     ]
    }
   ],
   "source": [
    "import math \n",
    "\n",
    "tic = time.time()\n",
    "\n",
    "u = np.zeros((len(v),1))\n",
    "\n",
    "for i in range(len(v)):\n",
    "    u[i] = math.exp(v[i])\n",
    "    \n",
    "toc = time.time()\n",
    "\n",
    "print(\"Non-Vectorized Version: \"+ str(1000*(toc-tic))+\" ms\")\n",
    "\n",
    "print(u)"
   ]
  },
  {
   "cell_type": "markdown",
   "metadata": {},
   "source": [
    "## Vectorized"
   ]
  },
  {
   "cell_type": "code",
   "execution_count": 9,
   "metadata": {},
   "outputs": [
    {
     "name": "stdout",
     "output_type": "stream",
     "text": [
      "Vectorized Version: 0.09298324584960938 ms\n",
      "[7.38905610e+00 5.45981500e+01 4.03428793e+02 2.98095799e+03\n",
      " 8.10308393e+03 2.20264658e+04]\n"
     ]
    }
   ],
   "source": [
    "import math \n",
    "\n",
    "tic = time.time()\n",
    "\n",
    "u = np.exp(v)\n",
    "    \n",
    "toc = time.time()\n",
    "\n",
    "print(\"Vectorized Version: \"+ str(1000*(toc-tic))+\" ms\")\n",
    "\n",
    "print(u)"
   ]
  },
  {
   "cell_type": "markdown",
   "metadata": {},
   "source": [
    "# Vectorizing Logistic Regression"
   ]
  },
  {
   "cell_type": "code",
   "execution_count": 10,
   "metadata": {},
   "outputs": [],
   "source": [
    "inputs = np.array([[2,43,34,1,24]]) #Normal X values - Training examples\n",
    "\n",
    "weights = np.array([[0.2,0.3,0.4,0.91,0.54]])\n",
    "\n",
    "bias = np.array([2,4,6,12,43])"
   ]
  },
  {
   "cell_type": "code",
   "execution_count": 11,
   "metadata": {},
   "outputs": [
    {
     "data": {
      "text/plain": [
       "(1, 5)"
      ]
     },
     "execution_count": 11,
     "metadata": {},
     "output_type": "execute_result"
    }
   ],
   "source": [
    "inputs.shape"
   ]
  },
  {
   "cell_type": "code",
   "execution_count": 12,
   "metadata": {},
   "outputs": [
    {
     "data": {
      "text/plain": [
       "1"
      ]
     },
     "execution_count": 12,
     "metadata": {},
     "output_type": "execute_result"
    }
   ],
   "source": [
    "len(inputs)"
   ]
  },
  {
   "cell_type": "code",
   "execution_count": 13,
   "metadata": {},
   "outputs": [
    {
     "data": {
      "text/plain": [
       "(1, 5)"
      ]
     },
     "execution_count": 13,
     "metadata": {},
     "output_type": "execute_result"
    }
   ],
   "source": [
    "weights.shape"
   ]
  },
  {
   "cell_type": "code",
   "execution_count": 14,
   "metadata": {},
   "outputs": [
    {
     "data": {
      "text/plain": [
       "1"
      ]
     },
     "execution_count": 14,
     "metadata": {},
     "output_type": "execute_result"
    }
   ],
   "source": [
    "len(weights)"
   ]
  },
  {
   "cell_type": "markdown",
   "metadata": {},
   "source": [
    "## Non-Vectorized"
   ]
  },
  {
   "cell_type": "code",
   "execution_count": 15,
   "metadata": {},
   "outputs": [
    {
     "name": "stdout",
     "output_type": "stream",
     "text": [
      "Non-Vectorized Version: 0.33092498779296875 ms\n",
      "[[ 2.4  12.6  12.8  12.2  47.8 ]\n",
      " [ 2.6  16.9  16.2  12.3  50.2 ]\n",
      " [ 2.8  21.2  19.6  12.4  52.6 ]\n",
      " [ 3.82 43.13 36.94 12.91 64.84]\n",
      " [ 3.08 27.22 24.36 12.54 55.96]]\n"
     ]
    }
   ],
   "source": [
    "Z = np.zeros((5,5))\n",
    "\n",
    "tic = time.time()\n",
    "\n",
    "for i in range(len(weights[0])):\n",
    "    for j in range(len(inputs[0])):\n",
    "        Z[i][j]= (weights[0][i]*inputs[0][j])+bias[j]\n",
    "    \n",
    "toc = time.time()\n",
    "\n",
    "print(\"Non-Vectorized Version: \"+ str(1000*(toc-tic))+\" ms\")\n",
    "\n",
    "\n",
    "print(Z)"
   ]
  },
  {
   "cell_type": "code",
   "execution_count": 16,
   "metadata": {},
   "outputs": [
    {
     "data": {
      "text/plain": [
       "(5,)"
      ]
     },
     "execution_count": 16,
     "metadata": {},
     "output_type": "execute_result"
    }
   ],
   "source": [
    "Z = np.zeros((len(bias)))\n",
    "Z.shape"
   ]
  },
  {
   "cell_type": "code",
   "execution_count": 17,
   "metadata": {},
   "outputs": [
    {
     "data": {
      "text/plain": [
       "0.0"
      ]
     },
     "execution_count": 17,
     "metadata": {},
     "output_type": "execute_result"
    }
   ],
   "source": [
    "Z[4]"
   ]
  },
  {
   "cell_type": "markdown",
   "metadata": {},
   "source": [
    "## Vectorized"
   ]
  },
  {
   "cell_type": "code",
   "execution_count": 18,
   "metadata": {},
   "outputs": [
    {
     "name": "stdout",
     "output_type": "stream",
     "text": [
      "Vectorized Version: 0.2498626708984375 ms\n",
      "[[ 2.4  12.6  12.8  12.2  47.8 ]\n",
      " [ 2.6  16.9  16.2  12.3  50.2 ]\n",
      " [ 2.8  21.2  19.6  12.4  52.6 ]\n",
      " [ 3.82 43.13 36.94 12.91 64.84]\n",
      " [ 3.08 27.22 24.36 12.54 55.96]]\n"
     ]
    }
   ],
   "source": [
    "tic = time.time()\n",
    "\n",
    "Z= (np.dot(weights.T,inputs))+bias #Multiply will multiply all numbers in a array\n",
    "    \n",
    "toc = time.time()\n",
    "\n",
    "print(\"Vectorized Version: \"+ str(1000*(toc-tic))+\" ms\")\n",
    "\n",
    "print(Z)"
   ]
  },
  {
   "cell_type": "code",
   "execution_count": 19,
   "metadata": {},
   "outputs": [
    {
     "data": {
      "text/plain": [
       "numpy.ndarray"
      ]
     },
     "execution_count": 19,
     "metadata": {},
     "output_type": "execute_result"
    }
   ],
   "source": [
    "type(Z)"
   ]
  },
  {
   "cell_type": "markdown",
   "metadata": {},
   "source": [
    "## Example"
   ]
  },
  {
   "cell_type": "code",
   "execution_count": 20,
   "metadata": {},
   "outputs": [],
   "source": [
    "# Number of features\n",
    "n = 1000\n",
    "# Number of training examples\n",
    "m = 10000\n",
    "# Initialize X and W\n",
    "X = np.random.rand(n,m)\n",
    "W = np.random.rand(n,1)"
   ]
  },
  {
   "cell_type": "code",
   "execution_count": 21,
   "metadata": {},
   "outputs": [
    {
     "data": {
      "text/plain": [
       "(1000, 10000)"
      ]
     },
     "execution_count": 21,
     "metadata": {},
     "output_type": "execute_result"
    }
   ],
   "source": [
    "X.shape"
   ]
  },
  {
   "cell_type": "code",
   "execution_count": 22,
   "metadata": {},
   "outputs": [
    {
     "data": {
      "text/plain": [
       "(1000, 1)"
      ]
     },
     "execution_count": 22,
     "metadata": {},
     "output_type": "execute_result"
    }
   ],
   "source": [
    "W.shape"
   ]
  },
  {
   "cell_type": "markdown",
   "metadata": {},
   "source": [
    "## Vectorizing Logistic Regression's Gradient Output"
   ]
  },
  {
   "cell_type": "code",
   "execution_count": null,
   "metadata": {},
   "outputs": [],
   "source": []
  },
  {
   "cell_type": "code",
   "execution_count": null,
   "metadata": {},
   "outputs": [],
   "source": []
  },
  {
   "cell_type": "code",
   "execution_count": null,
   "metadata": {},
   "outputs": [],
   "source": []
  },
  {
   "cell_type": "code",
   "execution_count": null,
   "metadata": {},
   "outputs": [],
   "source": []
  },
  {
   "cell_type": "code",
   "execution_count": null,
   "metadata": {},
   "outputs": [],
   "source": []
  },
  {
   "cell_type": "code",
   "execution_count": null,
   "metadata": {},
   "outputs": [],
   "source": []
  },
  {
   "cell_type": "code",
   "execution_count": null,
   "metadata": {},
   "outputs": [],
   "source": []
  },
  {
   "cell_type": "code",
   "execution_count": null,
   "metadata": {},
   "outputs": [],
   "source": []
  },
  {
   "cell_type": "code",
   "execution_count": null,
   "metadata": {},
   "outputs": [],
   "source": []
  },
  {
   "cell_type": "code",
   "execution_count": null,
   "metadata": {},
   "outputs": [],
   "source": []
  },
  {
   "cell_type": "code",
   "execution_count": null,
   "metadata": {},
   "outputs": [],
   "source": []
  },
  {
   "cell_type": "code",
   "execution_count": null,
   "metadata": {},
   "outputs": [],
   "source": []
  }
 ],
 "metadata": {
  "kernelspec": {
   "display_name": "Python 3",
   "language": "python",
   "name": "python3"
  },
  "language_info": {
   "codemirror_mode": {
    "name": "ipython",
    "version": 3
   },
   "file_extension": ".py",
   "mimetype": "text/x-python",
   "name": "python",
   "nbconvert_exporter": "python",
   "pygments_lexer": "ipython3",
   "version": "3.7.3"
  }
 },
 "nbformat": 4,
 "nbformat_minor": 4
}
