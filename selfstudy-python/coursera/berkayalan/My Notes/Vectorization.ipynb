{
 "cells": [
  {
   "cell_type": "code",
   "execution_count": 195,
   "metadata": {},
   "outputs": [
    {
     "name": "stdout",
     "output_type": "stream",
     "text": [
      "[1 2 3 4]\n"
     ]
    }
   ],
   "source": [
    "import numpy as np\n",
    "\n",
    "a= np.array([1,2,3,4])\n",
    "\n",
    "print(a)"
   ]
  },
  {
   "cell_type": "code",
   "execution_count": 196,
   "metadata": {},
   "outputs": [],
   "source": [
    "import time\n",
    "\n",
    "weights = np.random.random(1000000)\n",
    "\n",
    "inputs = np.random.random(1000000)"
   ]
  },
  {
   "cell_type": "code",
   "execution_count": 197,
   "metadata": {},
   "outputs": [
    {
     "name": "stdout",
     "output_type": "stream",
     "text": [
      "(1000000,)\n",
      "(1000000,)\n"
     ]
    }
   ],
   "source": [
    "print(weights.shape)\n",
    "print(inputs.shape)"
   ]
  },
  {
   "cell_type": "markdown",
   "metadata": {},
   "source": [
    "## Vectorized Version"
   ]
  },
  {
   "cell_type": "code",
   "execution_count": 198,
   "metadata": {},
   "outputs": [
    {
     "name": "stdout",
     "output_type": "stream",
     "text": [
      "Vectorized Version: 11.04593276977539ms\n",
      "Z= 249920.585897757\n"
     ]
    }
   ],
   "source": [
    "tic = time.time()\n",
    "\n",
    "z= np.dot(weights,inputs)\n",
    "\n",
    "toc= time.time()\n",
    "\n",
    "print(\"Vectorized Version: \"+ str(1000*(toc-tic))+\"ms\")\n",
    "\n",
    "print(\"Z= \"+str(z))"
   ]
  },
  {
   "cell_type": "markdown",
   "metadata": {},
   "source": [
    "## Non-Vectorized Version"
   ]
  },
  {
   "cell_type": "code",
   "execution_count": 199,
   "metadata": {},
   "outputs": [
    {
     "name": "stdout",
     "output_type": "stream",
     "text": [
      "Non-Vectorized Version: 930.0210475921631ms\n",
      "Z= 249920.58589777275\n"
     ]
    }
   ],
   "source": [
    "z=0\n",
    "\n",
    "tic = time.time()\n",
    "\n",
    "for i in range(len(inputs)):\n",
    "    z += weights[i]*inputs[i]\n",
    "\n",
    "toc= time.time()\n",
    "\n",
    "print(\"Non-Vectorized Version: \"+ str(1000*(toc-tic))+\"ms\")\n",
    "\n",
    "print(\"Z= \"+str(z))"
   ]
  },
  {
   "cell_type": "markdown",
   "metadata": {},
   "source": [
    "# Example"
   ]
  },
  {
   "cell_type": "code",
   "execution_count": 200,
   "metadata": {},
   "outputs": [
    {
     "data": {
      "text/plain": [
       "(6,)"
      ]
     },
     "execution_count": 200,
     "metadata": {},
     "output_type": "execute_result"
    }
   ],
   "source": [
    "v = np.array([2,4,6,8,9,10])\n",
    "v.shape"
   ]
  },
  {
   "cell_type": "markdown",
   "metadata": {},
   "source": [
    "We want u = e^v"
   ]
  },
  {
   "cell_type": "code",
   "execution_count": 201,
   "metadata": {},
   "outputs": [
    {
     "data": {
      "text/plain": [
       "6"
      ]
     },
     "execution_count": 201,
     "metadata": {},
     "output_type": "execute_result"
    }
   ],
   "source": [
    "len(v)"
   ]
  },
  {
   "cell_type": "markdown",
   "metadata": {},
   "source": [
    "## Non-vectorized"
   ]
  },
  {
   "cell_type": "code",
   "execution_count": 202,
   "metadata": {},
   "outputs": [
    {
     "name": "stdout",
     "output_type": "stream",
     "text": [
      "Non-Vectorized Version: 0.2472400665283203 ms\n",
      "[[7.38905610e+00]\n",
      " [5.45981500e+01]\n",
      " [4.03428793e+02]\n",
      " [2.98095799e+03]\n",
      " [8.10308393e+03]\n",
      " [2.20264658e+04]]\n"
     ]
    }
   ],
   "source": [
    "import math \n",
    "\n",
    "tic = time.time()\n",
    "\n",
    "u = np.zeros((len(v),1))\n",
    "\n",
    "for i in range(len(v)):\n",
    "    u[i] = math.exp(v[i])\n",
    "    \n",
    "toc = time.time()\n",
    "\n",
    "print(\"Non-Vectorized Version: \"+ str(1000*(toc-tic))+\" ms\")\n",
    "\n",
    "print(u)"
   ]
  },
  {
   "cell_type": "markdown",
   "metadata": {},
   "source": [
    "## Vectorized"
   ]
  },
  {
   "cell_type": "code",
   "execution_count": 203,
   "metadata": {},
   "outputs": [
    {
     "name": "stdout",
     "output_type": "stream",
     "text": [
      "Vectorized Version: 0.15687942504882812 ms\n",
      "[7.38905610e+00 5.45981500e+01 4.03428793e+02 2.98095799e+03\n",
      " 8.10308393e+03 2.20264658e+04]\n"
     ]
    }
   ],
   "source": [
    "import math \n",
    "\n",
    "tic = time.time()\n",
    "\n",
    "u = np.exp(v)\n",
    "    \n",
    "toc = time.time()\n",
    "\n",
    "print(\"Vectorized Version: \"+ str(1000*(toc-tic))+\" ms\")\n",
    "\n",
    "print(u)"
   ]
  },
  {
   "cell_type": "markdown",
   "metadata": {},
   "source": [
    "# Vectorizing Logistic Regression"
   ]
  },
  {
   "cell_type": "code",
   "execution_count": 204,
   "metadata": {},
   "outputs": [],
   "source": [
    "inputs = np.array([[2,43,34,1,24]]) #Normal X values - Training examples\n",
    "\n",
    "weights = np.array([[0.2,0.3,0.4,0.91,0.54]])\n",
    "\n",
    "bias = np.array([2,4,6,12,43])"
   ]
  },
  {
   "cell_type": "code",
   "execution_count": 205,
   "metadata": {},
   "outputs": [
    {
     "data": {
      "text/plain": [
       "(1, 5)"
      ]
     },
     "execution_count": 205,
     "metadata": {},
     "output_type": "execute_result"
    }
   ],
   "source": [
    "inputs.shape"
   ]
  },
  {
   "cell_type": "code",
   "execution_count": 206,
   "metadata": {},
   "outputs": [
    {
     "data": {
      "text/plain": [
       "1"
      ]
     },
     "execution_count": 206,
     "metadata": {},
     "output_type": "execute_result"
    }
   ],
   "source": [
    "len(inputs)"
   ]
  },
  {
   "cell_type": "code",
   "execution_count": 207,
   "metadata": {},
   "outputs": [
    {
     "data": {
      "text/plain": [
       "(1, 5)"
      ]
     },
     "execution_count": 207,
     "metadata": {},
     "output_type": "execute_result"
    }
   ],
   "source": [
    "weights.shape"
   ]
  },
  {
   "cell_type": "code",
   "execution_count": 208,
   "metadata": {},
   "outputs": [
    {
     "data": {
      "text/plain": [
       "1"
      ]
     },
     "execution_count": 208,
     "metadata": {},
     "output_type": "execute_result"
    }
   ],
   "source": [
    "len(weights)"
   ]
  },
  {
   "cell_type": "markdown",
   "metadata": {},
   "source": [
    "## Non-Vectorized"
   ]
  },
  {
   "cell_type": "code",
   "execution_count": 217,
   "metadata": {},
   "outputs": [
    {
     "name": "stdout",
     "output_type": "stream",
     "text": [
      "Non-Vectorized Version: 2.0148754119873047 ms\n",
      "[[ 2.4  12.6  12.8  12.2  47.8 ]\n",
      " [ 2.6  16.9  16.2  12.3  50.2 ]\n",
      " [ 2.8  21.2  19.6  12.4  52.6 ]\n",
      " [ 3.82 43.13 36.94 12.91 64.84]\n",
      " [ 3.08 27.22 24.36 12.54 55.96]]\n"
     ]
    }
   ],
   "source": [
    "Z = np.zeros((5,5))\n",
    "\n",
    "tic = time.time()\n",
    "\n",
    "for i in range(len(weights[0])):\n",
    "    for j in range(len(inputs[0])):\n",
    "        Z[i][j]= (weights[0][i]*inputs[0][j])+bias[j]\n",
    "    \n",
    "toc = time.time()\n",
    "\n",
    "print(\"Non-Vectorized Version: \"+ str(1000*(toc-tic))+\" ms\")\n",
    "\n",
    "\n",
    "print(Z)"
   ]
  },
  {
   "cell_type": "code",
   "execution_count": 218,
   "metadata": {},
   "outputs": [
    {
     "data": {
      "text/plain": [
       "(5,)"
      ]
     },
     "execution_count": 218,
     "metadata": {},
     "output_type": "execute_result"
    }
   ],
   "source": [
    "Z = np.zeros((len(bias)))\n",
    "Z.shape"
   ]
  },
  {
   "cell_type": "code",
   "execution_count": 219,
   "metadata": {},
   "outputs": [
    {
     "data": {
      "text/plain": [
       "0.0"
      ]
     },
     "execution_count": 219,
     "metadata": {},
     "output_type": "execute_result"
    }
   ],
   "source": [
    "Z[4]"
   ]
  },
  {
   "cell_type": "markdown",
   "metadata": {},
   "source": [
    "## Vectorized"
   ]
  },
  {
   "cell_type": "code",
   "execution_count": 212,
   "metadata": {},
   "outputs": [
    {
     "name": "stdout",
     "output_type": "stream",
     "text": [
      "Vectorized Version: 3.7276744842529297 ms\n",
      "[[ 2.4  12.6  12.8  12.2  47.8 ]\n",
      " [ 2.6  16.9  16.2  12.3  50.2 ]\n",
      " [ 2.8  21.2  19.6  12.4  52.6 ]\n",
      " [ 3.82 43.13 36.94 12.91 64.84]\n",
      " [ 3.08 27.22 24.36 12.54 55.96]]\n"
     ]
    }
   ],
   "source": [
    "tic = time.time()\n",
    "\n",
    "Z= (np.dot(weights.T,inputs))+bias #Multiply will multiply all numbers in a array\n",
    "    \n",
    "toc = time.time()\n",
    "\n",
    "print(\"Vectorized Version: \"+ str(1000*(toc-tic))+\" ms\")\n",
    "\n",
    "print(Z)"
   ]
  },
  {
   "cell_type": "code",
   "execution_count": 213,
   "metadata": {},
   "outputs": [
    {
     "data": {
      "text/plain": [
       "numpy.ndarray"
      ]
     },
     "execution_count": 213,
     "metadata": {},
     "output_type": "execute_result"
    }
   ],
   "source": [
    "type(Z)"
   ]
  },
  {
   "cell_type": "markdown",
   "metadata": {},
   "source": [
    "## Example"
   ]
  },
  {
   "cell_type": "code",
   "execution_count": 214,
   "metadata": {},
   "outputs": [],
   "source": [
    "# Number of features\n",
    "n = 1000\n",
    "# Number of training examples\n",
    "m = 10000\n",
    "# Initialize X and W\n",
    "X = np.random.rand(n,m)\n",
    "W = np.random.rand(n,1)"
   ]
  },
  {
   "cell_type": "code",
   "execution_count": 215,
   "metadata": {},
   "outputs": [
    {
     "data": {
      "text/plain": [
       "(1000, 10000)"
      ]
     },
     "execution_count": 215,
     "metadata": {},
     "output_type": "execute_result"
    }
   ],
   "source": [
    "X.shape"
   ]
  },
  {
   "cell_type": "code",
   "execution_count": 216,
   "metadata": {},
   "outputs": [
    {
     "data": {
      "text/plain": [
       "(1000, 1)"
      ]
     },
     "execution_count": 216,
     "metadata": {},
     "output_type": "execute_result"
    }
   ],
   "source": [
    "W.shape"
   ]
  },
  {
   "cell_type": "markdown",
   "metadata": {},
   "source": [
    "## Vectorizing Logistic Regression's Gradient Output"
   ]
  },
  {
   "cell_type": "code",
   "execution_count": null,
   "metadata": {},
   "outputs": [],
   "source": []
  },
  {
   "cell_type": "code",
   "execution_count": null,
   "metadata": {},
   "outputs": [],
   "source": []
  },
  {
   "cell_type": "code",
   "execution_count": null,
   "metadata": {},
   "outputs": [],
   "source": []
  },
  {
   "cell_type": "code",
   "execution_count": null,
   "metadata": {},
   "outputs": [],
   "source": []
  },
  {
   "cell_type": "code",
   "execution_count": null,
   "metadata": {},
   "outputs": [],
   "source": []
  },
  {
   "cell_type": "code",
   "execution_count": null,
   "metadata": {},
   "outputs": [],
   "source": []
  },
  {
   "cell_type": "code",
   "execution_count": null,
   "metadata": {},
   "outputs": [],
   "source": []
  },
  {
   "cell_type": "code",
   "execution_count": null,
   "metadata": {},
   "outputs": [],
   "source": []
  },
  {
   "cell_type": "code",
   "execution_count": 92,
   "metadata": {},
   "outputs": [],
   "source": [
    "t=[[1,2],[2,8],[9,14],[15,18]]"
   ]
  },
  {
   "cell_type": "code",
   "execution_count": 93,
   "metadata": {},
   "outputs": [
    {
     "data": {
      "text/plain": [
       "[0, 1, 2, 3]"
      ]
     },
     "execution_count": 93,
     "metadata": {},
     "output_type": "execute_result"
    }
   ],
   "source": [
    "list(range(len(t)))"
   ]
  },
  {
   "cell_type": "code",
   "execution_count": 94,
   "metadata": {},
   "outputs": [
    {
     "data": {
      "text/plain": [
       "15"
      ]
     },
     "execution_count": 94,
     "metadata": {},
     "output_type": "execute_result"
    }
   ],
   "source": [
    "t[3][0]"
   ]
  },
  {
   "cell_type": "code",
   "execution_count": 95,
   "metadata": {},
   "outputs": [
    {
     "data": {
      "text/plain": [
       "4"
      ]
     },
     "execution_count": 95,
     "metadata": {},
     "output_type": "execute_result"
    }
   ],
   "source": [
    "len(t)"
   ]
  },
  {
   "cell_type": "code",
   "execution_count": 96,
   "metadata": {},
   "outputs": [],
   "source": [
    "c=[]\n",
    "for i in list(range(len(t))):\n",
    "    if t[i][0] <= t[i][1]:\n",
    "        if i!=len(t)-1:\n",
    "            if t[i][1]==t[i+1][0] or t[i+1][0]<t[i][1]:\n",
    "                c.append([t[i][0],t[i+1][1]])\n",
    "            else:\n",
    "                c.append([t[i][0],t[i][1]])\n",
    "        else:\n",
    "            c.append([t[i][0],t[i][1]])\n",
    "    "
   ]
  },
  {
   "cell_type": "code",
   "execution_count": 98,
   "metadata": {},
   "outputs": [
    {
     "data": {
      "text/plain": [
       "[[1, 8], [2, 8], [9, 14], [15, 18]]"
      ]
     },
     "execution_count": 98,
     "metadata": {},
     "output_type": "execute_result"
    }
   ],
   "source": [
    "c"
   ]
  },
  {
   "cell_type": "code",
   "execution_count": 99,
   "metadata": {},
   "outputs": [
    {
     "data": {
      "text/plain": [
       "4"
      ]
     },
     "execution_count": 99,
     "metadata": {},
     "output_type": "execute_result"
    }
   ],
   "source": [
    "len(c)"
   ]
  },
  {
   "cell_type": "code",
   "execution_count": 103,
   "metadata": {},
   "outputs": [],
   "source": [
    "for i in range(len(c)):\n",
    "    if i<len(c)-1:\n",
    "        if c[i][1]==c[i+1][1]:\n",
    "            del c[i+1]"
   ]
  },
  {
   "cell_type": "code",
   "execution_count": 104,
   "metadata": {},
   "outputs": [
    {
     "data": {
      "text/plain": [
       "[[1, 8], [9, 14], [15, 18]]"
      ]
     },
     "execution_count": 104,
     "metadata": {},
     "output_type": "execute_result"
    }
   ],
   "source": [
    "c"
   ]
  },
  {
   "cell_type": "markdown",
   "metadata": {},
   "source": [
    "## Basit Hata"
   ]
  },
  {
   "cell_type": "code",
   "execution_count": 192,
   "metadata": {},
   "outputs": [],
   "source": [
    "words=[\"daire\", \"darie\", \"temiz\", \"temzi\", \"doktordan\", \"doktordna\", \"satilik\", \"sat\"]"
   ]
  },
  {
   "cell_type": "code",
   "execution_count": 193,
   "metadata": {},
   "outputs": [],
   "source": [
    "def basitHata(words):\n",
    "    dic_lst=[]\n",
    "    \n",
    "    for word in words:\n",
    "        dic={}\n",
    "        for i in set(word):\n",
    "              dic[i]=word.count(i)\n",
    "        dic_lst.append(dic)\n",
    "    mainlst=[]\n",
    "    sublst=[]\n",
    "    cpy=dic_lst.copy()\n",
    "    for dic in dic_lst:\n",
    "        if dic in cpy:\n",
    "            c=dic_lst.count(dic)\n",
    "            sublst=[]\n",
    "            bef=-1\n",
    "            for _ in range(c):\n",
    "                index=(dic_lst[bef+1:].index(dic))+bef+1\n",
    "                bef=index\n",
    "                sublst.append(words[index])\n",
    "        mainlst.append(sublst)\n",
    "    return mainlst"
   ]
  },
  {
   "cell_type": "code",
   "execution_count": 194,
   "metadata": {},
   "outputs": [
    {
     "data": {
      "text/plain": [
       "[['daire', 'darie'],\n",
       " ['daire', 'darie'],\n",
       " ['temiz', 'temzi'],\n",
       " ['temiz', 'temzi'],\n",
       " ['doktordan', 'doktordna'],\n",
       " ['doktordan', 'doktordna'],\n",
       " ['satilik'],\n",
       " ['sat']]"
      ]
     },
     "execution_count": 194,
     "metadata": {},
     "output_type": "execute_result"
    }
   ],
   "source": [
    "basitHata(words)"
   ]
  },
  {
   "cell_type": "code",
   "execution_count": 187,
   "metadata": {},
   "outputs": [
    {
     "data": {
      "text/plain": [
       "{'daire',\n",
       " 'darie',\n",
       " 'doktordan',\n",
       " 'doktordna',\n",
       " 'sat',\n",
       " 'satilik',\n",
       " 'temiz',\n",
       " 'temzi'}"
      ]
     },
     "execution_count": 187,
     "metadata": {},
     "output_type": "execute_result"
    }
   ],
   "source": [
    "s=set(words)\n",
    "s"
   ]
  },
  {
   "cell_type": "code",
   "execution_count": 188,
   "metadata": {},
   "outputs": [],
   "source": [
    "for i in words:\n",
    "    words.remove(i)\n",
    "    for j in s:\n",
    "        if len(i)==len(j):\n",
    "            li.append([])"
   ]
  },
  {
   "cell_type": "code",
   "execution_count": 189,
   "metadata": {},
   "outputs": [
    {
     "data": {
      "text/plain": [
       "[[], [], [], [], [], [], [], [], [], [], []]"
      ]
     },
     "execution_count": 189,
     "metadata": {},
     "output_type": "execute_result"
    }
   ],
   "source": [
    "li"
   ]
  },
  {
   "cell_type": "code",
   "execution_count": 148,
   "metadata": {},
   "outputs": [],
   "source": [
    "for i in words:\n",
    "    l=len(i)\n",
    "    k=i\n",
    "    words.remove(i)\n",
    "    y=words\n",
    "    for j in y:\n",
    "        if l == len(j):\n",
    "            li.append([k,j])\n",
    "            words.remove(j)\n",
    "        else:\n",
    "            li.append([j])"
   ]
  },
  {
   "cell_type": "code",
   "execution_count": 149,
   "metadata": {},
   "outputs": [
    {
     "data": {
      "text/plain": [
       "[['daire', 'darie'],\n",
       " ['daire', 'temzi'],\n",
       " ['doktordna'],\n",
       " ['satilik'],\n",
       " ['sat'],\n",
       " ['temiz'],\n",
       " ['doktordan', 'doktordna'],\n",
       " ['sat'],\n",
       " ['temiz'],\n",
       " ['satilik']]"
      ]
     },
     "execution_count": 149,
     "metadata": {},
     "output_type": "execute_result"
    }
   ],
   "source": [
    "li"
   ]
  },
  {
   "cell_type": "code",
   "execution_count": null,
   "metadata": {},
   "outputs": [],
   "source": []
  },
  {
   "cell_type": "code",
   "execution_count": null,
   "metadata": {},
   "outputs": [],
   "source": []
  },
  {
   "cell_type": "code",
   "execution_count": null,
   "metadata": {},
   "outputs": [],
   "source": []
  },
  {
   "cell_type": "code",
   "execution_count": null,
   "metadata": {},
   "outputs": [],
   "source": []
  },
  {
   "cell_type": "code",
   "execution_count": null,
   "metadata": {},
   "outputs": [],
   "source": []
  },
  {
   "cell_type": "code",
   "execution_count": null,
   "metadata": {},
   "outputs": [],
   "source": []
  }
 ],
 "metadata": {
  "kernelspec": {
   "display_name": "Python 3",
   "language": "python",
   "name": "python3"
  },
  "language_info": {
   "codemirror_mode": {
    "name": "ipython",
    "version": 3
   },
   "file_extension": ".py",
   "mimetype": "text/x-python",
   "name": "python",
   "nbconvert_exporter": "python",
   "pygments_lexer": "ipython3",
   "version": "3.8.3"
  }
 },
 "nbformat": 4,
 "nbformat_minor": 4
}
