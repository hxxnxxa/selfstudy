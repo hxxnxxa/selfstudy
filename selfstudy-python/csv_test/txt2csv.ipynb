{
 "cells": [
  {
   "cell_type": "code",
   "execution_count": 28,
   "id": "478284e5",
   "metadata": {
    "scrolled": true
   },
   "outputs": [
    {
     "name": "stdout",
     "output_type": "stream",
     "text": [
      "        CRIM    ZN  INDUS  CHAS    NOX     RM   AGE     DIS  RAD  TAX  \\\n",
      "0    0.00632  18.0   2.31     0  0.538  6.575  65.2  4.0900    1  296   \n",
      "1    0.02731   0.0   7.07     0  0.469  6.421  78.9  4.9671    2  242   \n",
      "2    0.02729   0.0   7.07     0  0.469  7.185  61.1  4.9671    2  242   \n",
      "3    0.03237   0.0   2.18     0  0.458  6.998  45.8  6.0622    3  222   \n",
      "4    0.06905   0.0   2.18     0  0.458  7.147  54.2  6.0622    3  222   \n",
      "..       ...   ...    ...   ...    ...    ...   ...     ...  ...  ...   \n",
      "501  0.06263   0.0  11.93     0  0.573  6.593  69.1  2.4786    1  273   \n",
      "502  0.04527   0.0  11.93     0  0.573  6.120  76.7  2.2875    1  273   \n",
      "503  0.06076   0.0  11.93     0  0.573  6.976  91.0  2.1675    1  273   \n",
      "504  0.10959   0.0  11.93     0  0.573  6.794  89.3  2.3889    1  273   \n",
      "505  0.04741   0.0  11.93     0  0.573  6.030  80.8  2.5050    1  273   \n",
      "\n",
      "     PTRATIO       B  LSTAT  MEDV  CAT. MEDV  \n",
      "0       15.3  396.90   4.98  24.0          0  \n",
      "1       17.8  396.90   9.14  21.6          0  \n",
      "2       17.8  392.83   4.03  34.7          1  \n",
      "3       18.7  394.63   2.94  33.4          1  \n",
      "4       18.7  396.90   5.33  36.2          1  \n",
      "..       ...     ...    ...   ...        ...  \n",
      "501     21.0  391.99   9.67  22.4          0  \n",
      "502     21.0  396.90   9.08  20.6          0  \n",
      "503     21.0  396.90   5.64  23.9          0  \n",
      "504     21.0  393.45   6.48  22.0          0  \n",
      "505     21.0  396.90   7.88  11.9          0  \n",
      "\n",
      "[506 rows x 15 columns]\n"
     ]
    }
   ],
   "source": [
    "import pandas as pd\n",
    "file = pd.read_csv('bostonText.txt', delimiter=',')\n",
    "print(file)"
   ]
  },
  {
   "cell_type": "markdown",
   "id": "0b2cc8bd",
   "metadata": {},
   "source": [
    "- CRIM : 자치시(town) 별 1인당 범죄율\n",
    "- ZN : 25,000 평방피트를 초과하는 거주지역의 비율\n",
    "- INDUS : 비소매상업지역이 점유하고 있는 토지의 비율\n",
    "- CHAS : 찰스강에 대한 더미변수(강의 경계에 위치한 경우는 1, 아니면 0)\n",
    "- NOX : 10ppm 당 농축 일산화질소\n",
    "- RM : 주택 1가구당 평균 방의 개수\n",
    "- AGE : 1940년 이전에 건축된 소유주택의 비율\n",
    "- DIS : 5개의 보스턴 직업센터까지의 접근성 지수\n",
    "- RAD : 방사형 도로까지의 접근성 지수\n",
    "- TAX : 10,000 달러 당 재산세율\n",
    "- PTRATIO : 자치시(town)별 학생/교사 비율\n",
    "- B : 1000(Bk-0.63)^2, 여기서 Bk는 자치시별 흑인의 비율을 말함\n",
    "- LSTAT : 모집단의 하위계층의 비율(%)\n",
    "- MEDV : 본인 소유의 주택가격(중앙값) (단위: $1,000)"
   ]
  },
  {
   "cell_type": "code",
   "execution_count": 2,
   "id": "376ed07d",
   "metadata": {},
   "outputs": [
    {
     "name": "stdout",
     "output_type": "stream",
     "text": [
      "          Arita-Bold_궁.png  (17,12)  (76,10)  (72,30)  Unnamed: 4  (10,43)  \\\n",
      "0        Arita-Light_궁.png   (18,9)  (74,11)  (72,34)         NaN  (12,42)   \n",
      "1       Arita-Medium_궁.png   (22,8)  (72,11)  (71,32)         NaN  (10,43)   \n",
      "2     Arita-SemiBold_궁.png   (20,9)  (71,15)  (69,36)         NaN   (8,42)   \n",
      "3         Arita-Thin_궁.png   (22,8)   (74,8)  (71,39)         NaN  (12,44)   \n",
      "4    BareunDotumPro1_궁.png  (20,10)  (73,13)  (69,40)         NaN   (8,46)   \n",
      "5    BareunDotumPro2_궁.png  (18,13)  (70,14)  (66,34)         NaN   (9,46)   \n",
      "6    BareunDotumPro3_궁.png  (21,14)  (69,15)  (65,35)         NaN  (10,46)   \n",
      "7  BinggraeTaom-Bold_궁.png  (23,25)  (64,26)  (64,45)         NaN  (10,63)   \n",
      "8       BinggraeTaom_궁.png  (31,27)  (66,30)  (64,46)         NaN  (14,62)   \n",
      "9          BMJUA_ttf_궁.png  (16,20)  (67,24)  (65,36)         NaN  (14,53)   \n",
      "\n",
      "   (80,43)  (45,59) Unnamed: 8   (16,74)   (67,82)  Unnamed: 11  \n",
      "0  (82,42)  (46,61)        NaN   (16,72)   (71,80)          NaN  \n",
      "1  (84,43)  (45,60)        NaN   (19,70)   (69,80)          NaN  \n",
      "2  (78,39)  (48,55)        NaN   (16,72)   (66,84)          NaN  \n",
      "3  (78,43)  (44,55)        NaN   (19,67)   (72,82)          NaN  \n",
      "4  (82,45)  (47,58)        NaN   (26,68)   (64,84)          NaN  \n",
      "5  (82,45)  (46,57)        NaN   (24,68)   (67,86)          NaN  \n",
      "6  (84,44)  (44,58)        NaN   (22,69)   (71,85)          NaN  \n",
      "7  (84,60)      NaN    (36,87)  (58,114)       NaN          NaN  \n",
      "8  (79,59)  (45,71)        NaN   (31,89)  (59,105)          NaN  \n",
      "9  (73,55)  (44,63)        NaN   (17,75)   (65,85)          NaN  \n"
     ]
    }
   ],
   "source": [
    "import pandas as pd\n",
    "file = pd.read_csv('point.txt', delimiter='\\t')\n",
    "print(file)"
   ]
  },
  {
   "cell_type": "code",
   "execution_count": null,
   "id": "7a8a5dc0",
   "metadata": {},
   "outputs": [],
   "source": []
  }
 ],
 "metadata": {
  "kernelspec": {
   "display_name": "python3.7 (yolo-v5-pytorch)",
   "language": "python",
   "name": "yolo-v5-pytorch"
  },
  "language_info": {
   "codemirror_mode": {
    "name": "ipython",
    "version": 3
   },
   "file_extension": ".py",
   "mimetype": "text/x-python",
   "name": "python",
   "nbconvert_exporter": "python",
   "pygments_lexer": "ipython3",
   "version": "3.7.11"
  }
 },
 "nbformat": 4,
 "nbformat_minor": 5
}
